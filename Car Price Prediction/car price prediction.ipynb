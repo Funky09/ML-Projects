{
 "cells": [
  {
   "cell_type": "markdown",
   "metadata": {},
   "source": [
    "# Linear Regression Assigment-01 (submitted by-Ashad Amjad )"
   ]
  },
  {
   "cell_type": "code",
   "execution_count": 1,
   "metadata": {},
   "outputs": [],
   "source": [
    "#importing required libraries\n",
    "\n",
    "import pandas as pd\n",
    "import numpy as np\n",
    "import matplotlib.pyplot as plt\n",
    "import seaborn as sns\n",
    "%matplotlib inline\n"
   ]
  },
  {
   "cell_type": "code",
   "execution_count": 2,
   "metadata": {
    "colab": {},
    "colab_type": "code",
    "id": "39Is0it2xagK",
    "scrolled": true
   },
   "outputs": [
    {
     "data": {
      "text/html": [
       "<div>\n",
       "<style scoped>\n",
       "    .dataframe tbody tr th:only-of-type {\n",
       "        vertical-align: middle;\n",
       "    }\n",
       "\n",
       "    .dataframe tbody tr th {\n",
       "        vertical-align: top;\n",
       "    }\n",
       "\n",
       "    .dataframe thead th {\n",
       "        text-align: right;\n",
       "    }\n",
       "</style>\n",
       "<table border=\"1\" class=\"dataframe\">\n",
       "  <thead>\n",
       "    <tr style=\"text-align: right;\">\n",
       "      <th></th>\n",
       "      <th>price</th>\n",
       "      <th>name</th>\n",
       "      <th>yearOfRegistration</th>\n",
       "      <th>monthOfRegistration</th>\n",
       "      <th>gearbox</th>\n",
       "      <th>powerPS</th>\n",
       "      <th>model</th>\n",
       "      <th>kilometer</th>\n",
       "      <th>fuelType</th>\n",
       "      <th>brand</th>\n",
       "      <th>vehicleType</th>\n",
       "    </tr>\n",
       "  </thead>\n",
       "  <tbody>\n",
       "    <tr>\n",
       "      <th>0</th>\n",
       "      <td>400</td>\n",
       "      <td>Ford_Escort</td>\n",
       "      <td>1992</td>\n",
       "      <td>8</td>\n",
       "      <td>manuell</td>\n",
       "      <td>89</td>\n",
       "      <td>escort</td>\n",
       "      <td>60000</td>\n",
       "      <td>benzin</td>\n",
       "      <td>ford</td>\n",
       "      <td>kombi</td>\n",
       "    </tr>\n",
       "    <tr>\n",
       "      <th>1</th>\n",
       "      <td>3500</td>\n",
       "      <td>Bmw_320_cabrio</td>\n",
       "      <td>1996</td>\n",
       "      <td>0</td>\n",
       "      <td>manuell</td>\n",
       "      <td>150</td>\n",
       "      <td>3er</td>\n",
       "      <td>125000</td>\n",
       "      <td>NaN</td>\n",
       "      <td>bmw</td>\n",
       "      <td>cabrio</td>\n",
       "    </tr>\n",
       "    <tr>\n",
       "      <th>2</th>\n",
       "      <td>2200</td>\n",
       "      <td>Mercedes_C_230_T_im_top_Zustand_Tuev_Neu!!_Win...</td>\n",
       "      <td>1998</td>\n",
       "      <td>0</td>\n",
       "      <td>manuell</td>\n",
       "      <td>150</td>\n",
       "      <td>c_klasse</td>\n",
       "      <td>150000</td>\n",
       "      <td>benzin</td>\n",
       "      <td>mercedes_benz</td>\n",
       "      <td>kombi</td>\n",
       "    </tr>\n",
       "    <tr>\n",
       "      <th>3</th>\n",
       "      <td>4000</td>\n",
       "      <td>A3_Limousine</td>\n",
       "      <td>2006</td>\n",
       "      <td>7</td>\n",
       "      <td>manuell</td>\n",
       "      <td>0</td>\n",
       "      <td>a3</td>\n",
       "      <td>150000</td>\n",
       "      <td>diesel</td>\n",
       "      <td>audi</td>\n",
       "      <td>limousine</td>\n",
       "    </tr>\n",
       "    <tr>\n",
       "      <th>4</th>\n",
       "      <td>2600</td>\n",
       "      <td>Smart_Smart_cabrio_450_cdi</td>\n",
       "      <td>2002</td>\n",
       "      <td>7</td>\n",
       "      <td>automatik</td>\n",
       "      <td>41</td>\n",
       "      <td>fortwo</td>\n",
       "      <td>150000</td>\n",
       "      <td>diesel</td>\n",
       "      <td>smart</td>\n",
       "      <td>cabrio</td>\n",
       "    </tr>\n",
       "  </tbody>\n",
       "</table>\n",
       "</div>"
      ],
      "text/plain": [
       "   price                                               name  \\\n",
       "0    400                                        Ford_Escort   \n",
       "1   3500                                     Bmw_320_cabrio   \n",
       "2   2200  Mercedes_C_230_T_im_top_Zustand_Tuev_Neu!!_Win...   \n",
       "3   4000                                       A3_Limousine   \n",
       "4   2600                         Smart_Smart_cabrio_450_cdi   \n",
       "\n",
       "   yearOfRegistration  monthOfRegistration    gearbox  powerPS     model  \\\n",
       "0                1992                    8    manuell       89    escort   \n",
       "1                1996                    0    manuell      150       3er   \n",
       "2                1998                    0    manuell      150  c_klasse   \n",
       "3                2006                    7    manuell        0        a3   \n",
       "4                2002                    7  automatik       41    fortwo   \n",
       "\n",
       "   kilometer fuelType          brand vehicleType  \n",
       "0      60000   benzin           ford       kombi  \n",
       "1     125000      NaN            bmw      cabrio  \n",
       "2     150000   benzin  mercedes_benz       kombi  \n",
       "3     150000   diesel           audi   limousine  \n",
       "4     150000   diesel          smart      cabrio  "
      ]
     },
     "execution_count": 2,
     "metadata": {},
     "output_type": "execute_result"
    }
   ],
   "source": [
    "# 1. Load the cars dataset.\n",
    "df=pd.read_csv('autos_small.csv')\n",
    "df.head()"
   ]
  },
  {
   "cell_type": "code",
   "execution_count": 3,
   "metadata": {},
   "outputs": [
    {
     "data": {
      "text/plain": [
       "(9985, 11)"
      ]
     },
     "execution_count": 3,
     "metadata": {},
     "output_type": "execute_result"
    }
   ],
   "source": [
    "df.shape #CHECKING HOW BIG IS DATA\n",
    "df=df.drop_duplicates() #dropping any duplicates\n",
    "df.shape #checking shape again to get how much duplicates were present"
   ]
  },
  {
   "cell_type": "code",
   "execution_count": 4,
   "metadata": {},
   "outputs": [
    {
     "data": {
      "text/plain": [
       "price                     0\n",
       "name                      0\n",
       "yearOfRegistration        0\n",
       "monthOfRegistration       0\n",
       "gearbox                 577\n",
       "powerPS                   0\n",
       "model                   566\n",
       "kilometer                 0\n",
       "fuelType                943\n",
       "brand                     0\n",
       "vehicleType            1050\n",
       "dtype: int64"
      ]
     },
     "execution_count": 4,
     "metadata": {},
     "output_type": "execute_result"
    }
   ],
   "source": [
    "# 2. Figure out the best strategy to fill missing values\n",
    "df.isnull().any() \n",
    "# As checked and found these columns [gearbox,model ,fuelType   vehicleType] have null value  \n",
    "df.isnull().sum()\n"
   ]
  },
  {
   "cell_type": "code",
   "execution_count": 4,
   "metadata": {},
   "outputs": [],
   "source": [
    "#filling nan with mode as these columns are categorical\n",
    "\n",
    "Null_columns=['gearbox','model','fuelType','vehicleType']\n",
    "for n in Null_columns:\n",
    "     df[n]=df[n].fillna(df[n].mode)"
   ]
  },
  {
   "cell_type": "code",
   "execution_count": 5,
   "metadata": {},
   "outputs": [
    {
     "data": {
      "text/html": [
       "<div>\n",
       "<style scoped>\n",
       "    .dataframe tbody tr th:only-of-type {\n",
       "        vertical-align: middle;\n",
       "    }\n",
       "\n",
       "    .dataframe tbody tr th {\n",
       "        vertical-align: top;\n",
       "    }\n",
       "\n",
       "    .dataframe thead th {\n",
       "        text-align: right;\n",
       "    }\n",
       "</style>\n",
       "<table border=\"1\" class=\"dataframe\">\n",
       "  <thead>\n",
       "    <tr style=\"text-align: right;\">\n",
       "      <th></th>\n",
       "      <th>price</th>\n",
       "      <th>yearOfRegistration</th>\n",
       "      <th>monthOfRegistration</th>\n",
       "      <th>powerPS</th>\n",
       "      <th>kilometer</th>\n",
       "    </tr>\n",
       "  </thead>\n",
       "  <tbody>\n",
       "    <tr>\n",
       "      <th>count</th>\n",
       "      <td>9.985000e+03</td>\n",
       "      <td>9985.000000</td>\n",
       "      <td>9985.000000</td>\n",
       "      <td>9985.000000</td>\n",
       "      <td>9985.000000</td>\n",
       "    </tr>\n",
       "    <tr>\n",
       "      <th>mean</th>\n",
       "      <td>7.052178e+03</td>\n",
       "      <td>2003.630546</td>\n",
       "      <td>5.734902</td>\n",
       "      <td>121.960341</td>\n",
       "      <td>125085.127692</td>\n",
       "    </tr>\n",
       "    <tr>\n",
       "      <th>std</th>\n",
       "      <td>1.238428e+05</td>\n",
       "      <td>40.454264</td>\n",
       "      <td>3.705793</td>\n",
       "      <td>342.338667</td>\n",
       "      <td>40557.423630</td>\n",
       "    </tr>\n",
       "    <tr>\n",
       "      <th>min</th>\n",
       "      <td>0.000000e+00</td>\n",
       "      <td>1000.000000</td>\n",
       "      <td>0.000000</td>\n",
       "      <td>0.000000</td>\n",
       "      <td>5000.000000</td>\n",
       "    </tr>\n",
       "    <tr>\n",
       "      <th>25%</th>\n",
       "      <td>1.150000e+03</td>\n",
       "      <td>1999.000000</td>\n",
       "      <td>3.000000</td>\n",
       "      <td>69.000000</td>\n",
       "      <td>100000.000000</td>\n",
       "    </tr>\n",
       "    <tr>\n",
       "      <th>50%</th>\n",
       "      <td>2.995000e+03</td>\n",
       "      <td>2004.000000</td>\n",
       "      <td>6.000000</td>\n",
       "      <td>105.000000</td>\n",
       "      <td>150000.000000</td>\n",
       "    </tr>\n",
       "    <tr>\n",
       "      <th>75%</th>\n",
       "      <td>7.200000e+03</td>\n",
       "      <td>2008.000000</td>\n",
       "      <td>9.000000</td>\n",
       "      <td>150.000000</td>\n",
       "      <td>150000.000000</td>\n",
       "    </tr>\n",
       "    <tr>\n",
       "      <th>max</th>\n",
       "      <td>1.234568e+07</td>\n",
       "      <td>5000.000000</td>\n",
       "      <td>12.000000</td>\n",
       "      <td>17322.000000</td>\n",
       "      <td>150000.000000</td>\n",
       "    </tr>\n",
       "  </tbody>\n",
       "</table>\n",
       "</div>"
      ],
      "text/plain": [
       "              price  yearOfRegistration  monthOfRegistration       powerPS  \\\n",
       "count  9.985000e+03         9985.000000          9985.000000   9985.000000   \n",
       "mean   7.052178e+03         2003.630546             5.734902    121.960341   \n",
       "std    1.238428e+05           40.454264             3.705793    342.338667   \n",
       "min    0.000000e+00         1000.000000             0.000000      0.000000   \n",
       "25%    1.150000e+03         1999.000000             3.000000     69.000000   \n",
       "50%    2.995000e+03         2004.000000             6.000000    105.000000   \n",
       "75%    7.200000e+03         2008.000000             9.000000    150.000000   \n",
       "max    1.234568e+07         5000.000000            12.000000  17322.000000   \n",
       "\n",
       "           kilometer  \n",
       "count    9985.000000  \n",
       "mean   125085.127692  \n",
       "std     40557.423630  \n",
       "min      5000.000000  \n",
       "25%    100000.000000  \n",
       "50%    150000.000000  \n",
       "75%    150000.000000  \n",
       "max    150000.000000  "
      ]
     },
     "execution_count": 5,
     "metadata": {},
     "output_type": "execute_result"
    }
   ],
   "source": [
    "# getting to understand the statistical overview of the integers column\n",
    "\n",
    "df.describe()"
   ]
  },
  {
   "cell_type": "code",
   "execution_count": 7,
   "metadata": {},
   "outputs": [
    {
     "name": "stdout",
     "output_type": "stream",
     "text": [
      "<class 'pandas.core.frame.DataFrame'>\n",
      "Int64Index: 9985 entries, 0 to 9999\n",
      "Data columns (total 11 columns):\n",
      " #   Column               Non-Null Count  Dtype \n",
      "---  ------               --------------  ----- \n",
      " 0   price                9985 non-null   int64 \n",
      " 1   name                 9985 non-null   object\n",
      " 2   yearOfRegistration   9985 non-null   int64 \n",
      " 3   monthOfRegistration  9985 non-null   int64 \n",
      " 4   gearbox              9985 non-null   object\n",
      " 5   powerPS              9985 non-null   int64 \n",
      " 6   model                9985 non-null   object\n",
      " 7   kilometer            9985 non-null   int64 \n",
      " 8   fuelType             9985 non-null   object\n",
      " 9   brand                9985 non-null   object\n",
      " 10  vehicleType          9985 non-null   object\n",
      "dtypes: int64(5), object(6)\n",
      "memory usage: 936.1+ KB\n"
     ]
    }
   ],
   "source": [
    "df.info()"
   ]
  },
  {
   "cell_type": "markdown",
   "metadata": {},
   "source": [
    "# Handling outliers\n",
    "\n",
    "From statistical overview only i got idea that these numerical columns have outliers.\n",
    "\n",
    "1. Tried to remove outliers using IQR as well as selecting some values manually by looking at box plot.\n"
   ]
  },
  {
   "cell_type": "code",
   "execution_count": 6,
   "metadata": {},
   "outputs": [
    {
     "data": {
      "text/plain": [
       "(25000.0, 225000.0)"
      ]
     },
     "execution_count": 6,
     "metadata": {},
     "output_type": "execute_result"
    }
   ],
   "source": [
    "#Decieded to remove outliers from the columns individually using iqr\n",
    "#1.removing outliers from kilometer columns\n",
    "q1=df['kilometer'].quantile(0.25)\n",
    "q3=df['kilometer'].quantile(0.75)\n",
    "IQR=q3-q1\n",
    "ll=q1-1.5*IQR\n",
    "ul=q3+1.5*IQR\n",
    "new_df=df[(df['kilometer'] > 25000)&(df['kilometer'] <=q3)]\n",
    "ll,ul"
   ]
  },
  {
   "cell_type": "code",
   "execution_count": 9,
   "metadata": {},
   "outputs": [
    {
     "data": {
      "text/plain": [
       "(9573, 11)"
      ]
     },
     "execution_count": 9,
     "metadata": {},
     "output_type": "execute_result"
    }
   ],
   "source": [
    "new_df.shape # to check how much data is left after removing as low amount of data may affect model performance"
   ]
  },
  {
   "cell_type": "code",
   "execution_count": 10,
   "metadata": {
    "scrolled": false
   },
   "outputs": [
    {
     "data": {
      "text/plain": [
       "{'whiskers': [<matplotlib.lines.Line2D at 0x14c81da73d0>,\n",
       "  <matplotlib.lines.Line2D at 0x14c81da76a0>],\n",
       " 'caps': [<matplotlib.lines.Line2D at 0x14c81da7a30>,\n",
       "  <matplotlib.lines.Line2D at 0x14c81da7c40>],\n",
       " 'boxes': [<matplotlib.lines.Line2D at 0x14c81da7100>],\n",
       " 'medians': [<matplotlib.lines.Line2D at 0x14c81da7f10>],\n",
       " 'fliers': [<matplotlib.lines.Line2D at 0x14c81db9220>],\n",
       " 'means': []}"
      ]
     },
     "execution_count": 10,
     "metadata": {},
     "output_type": "execute_result"
    },
    {
     "data": {
      "image/png": "[encoded data removed]",
      "text/plain": [
       "<Figure size 432x288 with 1 Axes>"
      ]
     },
     "metadata": {
      "needs_background": "light"
     },
     "output_type": "display_data"
    }
   ],
   "source": [
    "plt.boxplot(new_df['kilometer']) # checking if outliers still exist"
   ]
  },
  {
   "cell_type": "code",
   "execution_count": 11,
   "metadata": {},
   "outputs": [
    {
     "data": {
      "text/plain": [
       "(array([ 346.,  225.,  224.,  267.,  316.,  737.,    0., 1035.,    0.,\n",
       "        6423.]),\n",
       " array([ 30000.,  42000.,  54000.,  66000.,  78000.,  90000., 102000.,\n",
       "        114000., 126000., 138000., 150000.]),\n",
       " <BarContainer object of 10 artists>)"
      ]
     },
     "execution_count": 11,
     "metadata": {},
     "output_type": "execute_result"
    },
    {
     "data": {
      "image/png": "[encoded data removed]",
      "text/plain": [
       "<Figure size 432x288 with 1 Axes>"
      ]
     },
     "metadata": {
      "needs_background": "light"
     },
     "output_type": "display_data"
    }
   ],
   "source": [
    "plt.hist(new_df['kilometer']) # looking at the data distribution of this column"
   ]
  },
  {
   "cell_type": "code",
   "execution_count": 7,
   "metadata": {},
   "outputs": [],
   "source": [
    "#2--removing outliers from yearOfRegistration columns\n",
    "\n",
    "q1=new_df['yearOfRegistration'].quantile(0.25)\n",
    "q3=new_df['yearOfRegistration'].quantile(0.75)\n",
    "IQR=q3-q1\n",
    "ll=q1-1.5*IQR\n",
    "ul=q3+1.5*IQR\n",
    "new_df=new_df[(new_df['yearOfRegistration'] > ll)&(new_df['yearOfRegistration'] < ul)]"
   ]
  },
  {
   "cell_type": "code",
   "execution_count": 13,
   "metadata": {},
   "outputs": [
    {
     "data": {
      "text/plain": [
       "(9427, 11)"
      ]
     },
     "execution_count": 13,
     "metadata": {},
     "output_type": "execute_result"
    }
   ],
   "source": [
    "new_df.shape #to check how much data is left after removing as low amount of data may affect model performance"
   ]
  },
  {
   "cell_type": "code",
   "execution_count": 8,
   "metadata": {},
   "outputs": [
    {
     "data": {
      "text/plain": [
       "(-7550.0, 15650.0, 1150.0, 6950.0, 5800.0)"
      ]
     },
     "execution_count": 8,
     "metadata": {},
     "output_type": "execute_result"
    }
   ],
   "source": [
    "#3--removing outliers from price columns\n",
    "\n",
    "q1=new_df['price'].quantile(0.25)\n",
    "q3=new_df['price'].quantile(0.75)\n",
    "IQR=q3-q1\n",
    "ll=q1-1.5*IQR\n",
    "ul=q3+1.5*IQR\n",
    "new_df=new_df[(new_df['price'] >= 350)&(new_df['price'] <= ul)]\n",
    "ll,ul,q1,q3,IQR"
   ]
  },
  {
   "cell_type": "code",
   "execution_count": 15,
   "metadata": {},
   "outputs": [
    {
     "data": {
      "text/plain": [
       "(8068, 11)"
      ]
     },
     "execution_count": 15,
     "metadata": {},
     "output_type": "execute_result"
    }
   ],
   "source": [
    "new_df.shape #to check how much data is left after removing as low amount of data may affect model performance"
   ]
  },
  {
   "cell_type": "code",
   "execution_count": 16,
   "metadata": {},
   "outputs": [
    {
     "data": {
      "text/plain": [
       "{'whiskers': [<matplotlib.lines.Line2D at 0x14c81f16910>,\n",
       "  <matplotlib.lines.Line2D at 0x14c81f16be0>],\n",
       " 'caps': [<matplotlib.lines.Line2D at 0x14c81f16eb0>,\n",
       "  <matplotlib.lines.Line2D at 0x14c81f221c0>],\n",
       " 'boxes': [<matplotlib.lines.Line2D at 0x14c81f16640>],\n",
       " 'medians': [<matplotlib.lines.Line2D at 0x14c81f22490>],\n",
       " 'fliers': [<matplotlib.lines.Line2D at 0x14c81f22760>],\n",
       " 'means': []}"
      ]
     },
     "execution_count": 16,
     "metadata": {},
     "output_type": "execute_result"
    },
    {
     "data": {
      "image/png": "[encoded data removed]",
      "text/plain": [
       "<Figure size 432x288 with 1 Axes>"
      ]
     },
     "metadata": {
      "needs_background": "light"
     },
     "output_type": "display_data"
    }
   ],
   "source": [
    "plt.boxplot(new_df['price'])  # checking if outliers still exist"
   ]
  },
  {
   "cell_type": "code",
   "execution_count": 9,
   "metadata": {},
   "outputs": [],
   "source": [
    "#4--removing outliers from monthOfRegistration columns\n",
    "\n",
    "q1=new_df['monthOfRegistration'].quantile(0.25)\n",
    "q3=new_df['monthOfRegistration'].quantile(0.75)\n",
    "IQR=q3-q1\n",
    "ll=q1-1.5*IQR\n",
    "ul=q3+1.5*IQR\n",
    "new_df=new_df[(new_df['monthOfRegistration'] >=1)&(new_df['monthOfRegistration'] <=12)]\n",
    "\n",
    "#Although i tried to remove outliers using IQR but still there were outliers present such as '0' month so \n",
    "# so decieded to keep only those data which have month from 1 to 12"
   ]
  },
  {
   "cell_type": "code",
   "execution_count": 18,
   "metadata": {},
   "outputs": [
    {
     "data": {
      "text/plain": [
       "(7393, 11)"
      ]
     },
     "execution_count": 18,
     "metadata": {},
     "output_type": "execute_result"
    }
   ],
   "source": [
    "new_df.shape  #to check how much data is left after removing as low amount of data may affect model performance"
   ]
  },
  {
   "cell_type": "code",
   "execution_count": 10,
   "metadata": {},
   "outputs": [],
   "source": [
    "#4--removing outliers from powerPS columns\n",
    "\n",
    "q1=new_df['powerPS'].quantile(0.25)\n",
    "q3=new_df['powerPS'].quantile(0.75)\n",
    "IQR=q3-q1\n",
    "ll=q1-1.5*IQR\n",
    "ul=q3+1.5*IQR\n",
    "new_df=new_df[(new_df['powerPS'] > ll)&(new_df['powerPS'] < ul)]"
   ]
  },
  {
   "cell_type": "code",
   "execution_count": 20,
   "metadata": {},
   "outputs": [
    {
     "data": {
      "text/plain": [
       "(7221, 11)"
      ]
     },
     "execution_count": 20,
     "metadata": {},
     "output_type": "execute_result"
    }
   ],
   "source": [
    "new_df.shape  #to check how much data is left after removing as low amount of data may affect model performance"
   ]
  },
  {
   "cell_type": "code",
   "execution_count": 21,
   "metadata": {
    "scrolled": true
   },
   "outputs": [
    {
     "data": {
      "text/html": [
       "<div>\n",
       "<style scoped>\n",
       "    .dataframe tbody tr th:only-of-type {\n",
       "        vertical-align: middle;\n",
       "    }\n",
       "\n",
       "    .dataframe tbody tr th {\n",
       "        vertical-align: top;\n",
       "    }\n",
       "\n",
       "    .dataframe thead th {\n",
       "        text-align: right;\n",
       "    }\n",
       "</style>\n",
       "<table border=\"1\" class=\"dataframe\">\n",
       "  <thead>\n",
       "    <tr style=\"text-align: right;\">\n",
       "      <th></th>\n",
       "      <th>price</th>\n",
       "      <th>yearOfRegistration</th>\n",
       "      <th>monthOfRegistration</th>\n",
       "      <th>powerPS</th>\n",
       "      <th>kilometer</th>\n",
       "    </tr>\n",
       "  </thead>\n",
       "  <tbody>\n",
       "    <tr>\n",
       "      <th>count</th>\n",
       "      <td>7221.000000</td>\n",
       "      <td>7221.000000</td>\n",
       "      <td>7221.000000</td>\n",
       "      <td>7221.000000</td>\n",
       "      <td>7221.000000</td>\n",
       "    </tr>\n",
       "    <tr>\n",
       "      <th>mean</th>\n",
       "      <td>4256.912339</td>\n",
       "      <td>2003.582468</td>\n",
       "      <td>6.465725</td>\n",
       "      <td>107.522088</td>\n",
       "      <td>131994.183631</td>\n",
       "    </tr>\n",
       "    <tr>\n",
       "      <th>std</th>\n",
       "      <td>3670.651831</td>\n",
       "      <td>5.938374</td>\n",
       "      <td>3.327023</td>\n",
       "      <td>51.587155</td>\n",
       "      <td>31598.971186</td>\n",
       "    </tr>\n",
       "    <tr>\n",
       "      <th>min</th>\n",
       "      <td>350.000000</td>\n",
       "      <td>1986.000000</td>\n",
       "      <td>1.000000</td>\n",
       "      <td>0.000000</td>\n",
       "      <td>30000.000000</td>\n",
       "    </tr>\n",
       "    <tr>\n",
       "      <th>25%</th>\n",
       "      <td>1400.000000</td>\n",
       "      <td>1999.000000</td>\n",
       "      <td>4.000000</td>\n",
       "      <td>75.000000</td>\n",
       "      <td>125000.000000</td>\n",
       "    </tr>\n",
       "    <tr>\n",
       "      <th>50%</th>\n",
       "      <td>2999.000000</td>\n",
       "      <td>2003.000000</td>\n",
       "      <td>6.000000</td>\n",
       "      <td>105.000000</td>\n",
       "      <td>150000.000000</td>\n",
       "    </tr>\n",
       "    <tr>\n",
       "      <th>75%</th>\n",
       "      <td>6000.000000</td>\n",
       "      <td>2007.000000</td>\n",
       "      <td>9.000000</td>\n",
       "      <td>140.000000</td>\n",
       "      <td>150000.000000</td>\n",
       "    </tr>\n",
       "    <tr>\n",
       "      <th>max</th>\n",
       "      <td>15650.000000</td>\n",
       "      <td>2018.000000</td>\n",
       "      <td>12.000000</td>\n",
       "      <td>243.000000</td>\n",
       "      <td>150000.000000</td>\n",
       "    </tr>\n",
       "  </tbody>\n",
       "</table>\n",
       "</div>"
      ],
      "text/plain": [
       "              price  yearOfRegistration  monthOfRegistration      powerPS  \\\n",
       "count   7221.000000         7221.000000          7221.000000  7221.000000   \n",
       "mean    4256.912339         2003.582468             6.465725   107.522088   \n",
       "std     3670.651831            5.938374             3.327023    51.587155   \n",
       "min      350.000000         1986.000000             1.000000     0.000000   \n",
       "25%     1400.000000         1999.000000             4.000000    75.000000   \n",
       "50%     2999.000000         2003.000000             6.000000   105.000000   \n",
       "75%     6000.000000         2007.000000             9.000000   140.000000   \n",
       "max    15650.000000         2018.000000            12.000000   243.000000   \n",
       "\n",
       "           kilometer  \n",
       "count    7221.000000  \n",
       "mean   131994.183631  \n",
       "std     31598.971186  \n",
       "min     30000.000000  \n",
       "25%    125000.000000  \n",
       "50%    150000.000000  \n",
       "75%    150000.000000  \n",
       "max    150000.000000  "
      ]
     },
     "execution_count": 21,
     "metadata": {},
     "output_type": "execute_result"
    }
   ],
   "source": [
    "#looking at some statistical features of cleaned data\n",
    "\n",
    "new_df.describe()"
   ]
  },
  {
   "cell_type": "code",
   "execution_count": 22,
   "metadata": {
    "scrolled": false
   },
   "outputs": [
    {
     "data": {
      "text/plain": [
       "{'whiskers': [<matplotlib.lines.Line2D at 0x14c81f91340>,\n",
       "  <matplotlib.lines.Line2D at 0x14c81f91610>],\n",
       " 'caps': [<matplotlib.lines.Line2D at 0x14c81f918e0>,\n",
       "  <matplotlib.lines.Line2D at 0x14c81f91bb0>],\n",
       " 'boxes': [<matplotlib.lines.Line2D at 0x14c81f91070>],\n",
       " 'medians': [<matplotlib.lines.Line2D at 0x14c81f91e80>],\n",
       " 'fliers': [<matplotlib.lines.Line2D at 0x14c81f9e190>],\n",
       " 'means': []}"
      ]
     },
     "execution_count": 22,
     "metadata": {},
     "output_type": "execute_result"
    },
    {
     "data": {
      "image/png": "[encoded data removed]",
      "text/plain": [
       "<Figure size 432x288 with 1 Axes>"
      ]
     },
     "metadata": {
      "needs_background": "light"
     },
     "output_type": "display_data"
    }
   ],
   "source": [
    "#ploted the box plot for kilometer columns so as to compare with cleaned data\n",
    "\n",
    "plt.boxplot(df['kilometer'])"
   ]
  },
  {
   "cell_type": "code",
   "execution_count": 23,
   "metadata": {},
   "outputs": [
    {
     "data": {
      "text/plain": [
       "(array([ 241.,  335.,  182.,  449.,  267.,  645.,  408.,    0., 1035.,\n",
       "        6423.]),\n",
       " array([  5000.,  19500.,  34000.,  48500.,  63000.,  77500.,  92000.,\n",
       "        106500., 121000., 135500., 150000.]),\n",
       " <BarContainer object of 10 artists>)"
      ]
     },
     "execution_count": 23,
     "metadata": {},
     "output_type": "execute_result"
    },
    {
     "data": {
      "image/png": "[encoded data removed]",
      "text/plain": [
       "<Figure size 432x288 with 1 Axes>"
      ]
     },
     "metadata": {
      "needs_background": "light"
     },
     "output_type": "display_data"
    }
   ],
   "source": [
    "#understanding the data distribution in kilometer columns of old data\n",
    "\n",
    "plt.hist(df['kilometer'])"
   ]
  },
  {
   "cell_type": "code",
   "execution_count": 24,
   "metadata": {
    "scrolled": false
   },
   "outputs": [
    {
     "data": {
      "text/plain": [
       "(array([2495., 1461.,  902.,  647.,  559.,  361.,  265.,  195.,  203.,\n",
       "         133.]),\n",
       " array([  350.,  1880.,  3410.,  4940.,  6470.,  8000.,  9530., 11060.,\n",
       "        12590., 14120., 15650.]),\n",
       " <BarContainer object of 10 artists>)"
      ]
     },
     "execution_count": 24,
     "metadata": {},
     "output_type": "execute_result"
    },
    {
     "data": {
      "image/png": "[encoded data removed]",
      "text/plain": [
       "<Figure size 432x288 with 1 Axes>"
      ]
     },
     "metadata": {
      "needs_background": "light"
     },
     "output_type": "display_data"
    }
   ],
   "source": [
    "#understanding the data distribution in price columns of cleaned data\n",
    "\n",
    "plt.hist(new_df['price'])"
   ]
  },
  {
   "cell_type": "code",
   "execution_count": 25,
   "metadata": {},
   "outputs": [
    {
     "data": {
      "text/plain": [
       "(array([ 202.,  126.,  147.,  184.,  227.,  544.,    0.,  830.,    0.,\n",
       "        4961.]),\n",
       " array([ 30000.,  42000.,  54000.,  66000.,  78000.,  90000., 102000.,\n",
       "        114000., 126000., 138000., 150000.]),\n",
       " <BarContainer object of 10 artists>)"
      ]
     },
     "execution_count": 25,
     "metadata": {},
     "output_type": "execute_result"
    },
    {
     "data": {
      "image/png": "[encoded data removed]",
      "text/plain": [
       "<Figure size 432x288 with 1 Axes>"
      ]
     },
     "metadata": {
      "needs_background": "light"
     },
     "output_type": "display_data"
    }
   ],
   "source": [
    "#understanding the data distribution in kilometer columns of cleaned data\n",
    "\n",
    "plt.hist(new_df['kilometer'])"
   ]
  },
  {
   "cell_type": "code",
   "execution_count": 26,
   "metadata": {
    "scrolled": false
   },
   "outputs": [
    {
     "data": {
      "text/plain": [
       "{'whiskers': [<matplotlib.lines.Line2D at 0x14c8313a430>,\n",
       "  <matplotlib.lines.Line2D at 0x14c8313a700>],\n",
       " 'caps': [<matplotlib.lines.Line2D at 0x14c8313a9d0>,\n",
       "  <matplotlib.lines.Line2D at 0x14c8313aca0>],\n",
       " 'boxes': [<matplotlib.lines.Line2D at 0x14c8313a160>],\n",
       " 'medians': [<matplotlib.lines.Line2D at 0x14c8313af70>],\n",
       " 'fliers': [<matplotlib.lines.Line2D at 0x14c83146280>],\n",
       " 'means': []}"
      ]
     },
     "execution_count": 26,
     "metadata": {},
     "output_type": "execute_result"
    },
    {
     "data": {
      "image/png": "[encoded data removed]",
      "text/plain": [
       "<Figure size 432x288 with 1 Axes>"
      ]
     },
     "metadata": {
      "needs_background": "light"
     },
     "output_type": "display_data"
    }
   ],
   "source": [
    "#checking if some outliers present even after removing it from powerPS columns\n",
    "\n",
    "plt.boxplot(new_df['powerPS'])"
   ]
  },
  {
   "cell_type": "code",
   "execution_count": 27,
   "metadata": {},
   "outputs": [],
   "source": [
    "# 4. Apply various regression models and find out which model is the best for this dataset"
   ]
  },
  {
   "cell_type": "markdown",
   "metadata": {},
   "source": [
    "# Creating Model \n",
    "\n",
    "1.First decided to go with Multiple Linear Regression as we have to predict price which is having numrical values"
   ]
  },
  {
   "cell_type": "code",
   "execution_count": 11,
   "metadata": {
    "colab": {},
    "colab_type": "code",
    "id": "r5hv6nboxagT",
    "scrolled": false
   },
   "outputs": [
    {
     "data": {
      "text/html": [
       "<div>\n",
       "<style scoped>\n",
       "    .dataframe tbody tr th:only-of-type {\n",
       "        vertical-align: middle;\n",
       "    }\n",
       "\n",
       "    .dataframe tbody tr th {\n",
       "        vertical-align: top;\n",
       "    }\n",
       "\n",
       "    .dataframe thead th {\n",
       "        text-align: right;\n",
       "    }\n",
       "</style>\n",
       "<table border=\"1\" class=\"dataframe\">\n",
       "  <thead>\n",
       "    <tr style=\"text-align: right;\">\n",
       "      <th></th>\n",
       "      <th>price</th>\n",
       "      <th>name</th>\n",
       "      <th>yearOfRegistration</th>\n",
       "      <th>monthOfRegistration</th>\n",
       "      <th>gearbox</th>\n",
       "      <th>powerPS</th>\n",
       "      <th>model</th>\n",
       "      <th>kilometer</th>\n",
       "      <th>fuelType</th>\n",
       "      <th>brand</th>\n",
       "      <th>vehicleType</th>\n",
       "    </tr>\n",
       "  </thead>\n",
       "  <tbody>\n",
       "    <tr>\n",
       "      <th>0</th>\n",
       "      <td>400</td>\n",
       "      <td>Ford_Escort</td>\n",
       "      <td>1992</td>\n",
       "      <td>8</td>\n",
       "      <td>manuell</td>\n",
       "      <td>89</td>\n",
       "      <td>escort</td>\n",
       "      <td>60000</td>\n",
       "      <td>benzin</td>\n",
       "      <td>ford</td>\n",
       "      <td>kombi</td>\n",
       "    </tr>\n",
       "    <tr>\n",
       "      <th>3</th>\n",
       "      <td>4000</td>\n",
       "      <td>A3_Limousine</td>\n",
       "      <td>2006</td>\n",
       "      <td>7</td>\n",
       "      <td>manuell</td>\n",
       "      <td>0</td>\n",
       "      <td>a3</td>\n",
       "      <td>150000</td>\n",
       "      <td>diesel</td>\n",
       "      <td>audi</td>\n",
       "      <td>limousine</td>\n",
       "    </tr>\n",
       "    <tr>\n",
       "      <th>4</th>\n",
       "      <td>2600</td>\n",
       "      <td>Smart_Smart_cabrio_450_cdi</td>\n",
       "      <td>2002</td>\n",
       "      <td>7</td>\n",
       "      <td>automatik</td>\n",
       "      <td>41</td>\n",
       "      <td>fortwo</td>\n",
       "      <td>150000</td>\n",
       "      <td>diesel</td>\n",
       "      <td>smart</td>\n",
       "      <td>cabrio</td>\n",
       "    </tr>\n",
       "    <tr>\n",
       "      <th>5</th>\n",
       "      <td>2222</td>\n",
       "      <td>BMW_318ti_compact</td>\n",
       "      <td>2001</td>\n",
       "      <td>10</td>\n",
       "      <td>manuell</td>\n",
       "      <td>143</td>\n",
       "      <td>3er</td>\n",
       "      <td>150000</td>\n",
       "      <td>benzin</td>\n",
       "      <td>bmw</td>\n",
       "      <td>limousine</td>\n",
       "    </tr>\n",
       "    <tr>\n",
       "      <th>6</th>\n",
       "      <td>4000</td>\n",
       "      <td>Toyota_Yaris_1.0_VVT_i</td>\n",
       "      <td>2008</td>\n",
       "      <td>11</td>\n",
       "      <td>manuell</td>\n",
       "      <td>69</td>\n",
       "      <td>yaris</td>\n",
       "      <td>125000</td>\n",
       "      <td>benzin</td>\n",
       "      <td>toyota</td>\n",
       "      <td>kleinwagen</td>\n",
       "    </tr>\n",
       "  </tbody>\n",
       "</table>\n",
       "</div>"
      ],
      "text/plain": [
       "   price                        name  yearOfRegistration  monthOfRegistration  \\\n",
       "0    400                 Ford_Escort                1992                    8   \n",
       "3   4000                A3_Limousine                2006                    7   \n",
       "4   2600  Smart_Smart_cabrio_450_cdi                2002                    7   \n",
       "5   2222           BMW_318ti_compact                2001                   10   \n",
       "6   4000      Toyota_Yaris_1.0_VVT_i                2008                   11   \n",
       "\n",
       "     gearbox  powerPS   model  kilometer fuelType   brand vehicleType  \n",
       "0    manuell       89  escort      60000   benzin    ford       kombi  \n",
       "3    manuell        0      a3     150000   diesel    audi   limousine  \n",
       "4  automatik       41  fortwo     150000   diesel   smart      cabrio  \n",
       "5    manuell      143     3er     150000   benzin     bmw   limousine  \n",
       "6    manuell       69   yaris     125000   benzin  toyota  kleinwagen  "
      ]
     },
     "execution_count": 11,
     "metadata": {},
     "output_type": "execute_result"
    }
   ],
   "source": [
    "#creating a new dataframe to work for  new model\n",
    "dfm=new_df.copy()\n",
    "dfm.head()"
   ]
  },
  {
   "cell_type": "code",
   "execution_count": 29,
   "metadata": {},
   "outputs": [
    {
     "data": {
      "text/plain": [
       "(7221, 11)"
      ]
     },
     "execution_count": 29,
     "metadata": {},
     "output_type": "execute_result"
    }
   ],
   "source": [
    "#checking the quantity of the final data\n",
    "\n",
    "dfm.shape "
   ]
  },
  {
   "cell_type": "code",
   "execution_count": 30,
   "metadata": {
    "scrolled": false
   },
   "outputs": [
    {
     "data": {
      "text/plain": [
       "<AxesSubplot:>"
      ]
     },
     "execution_count": 30,
     "metadata": {},
     "output_type": "execute_result"
    },
    {
     "data": {
      "image/png": "[encoded data removed]",
      "text/plain": [
       "<Figure size 432x288 with 2 Axes>"
      ]
     },
     "metadata": {
      "needs_background": "light"
     },
     "output_type": "display_data"
    }
   ],
   "source": [
    "# Visualizing how columns are co-related for this i have used seaborn library\n",
    "\n",
    "sns.heatmap(dfm.corr())"
   ]
  },
  {
   "cell_type": "code",
   "execution_count": 12,
   "metadata": {},
   "outputs": [],
   "source": [
    "#decided to drop name columns as it has no such co-realtion and also while encoding no of rows would have increased\n",
    "\n",
    "dfm.drop('name',axis=1,inplace=True)"
   ]
  },
  {
   "cell_type": "code",
   "execution_count": 13,
   "metadata": {
    "scrolled": false
   },
   "outputs": [
    {
     "data": {
      "text/html": [
       "<div>\n",
       "<style scoped>\n",
       "    .dataframe tbody tr th:only-of-type {\n",
       "        vertical-align: middle;\n",
       "    }\n",
       "\n",
       "    .dataframe tbody tr th {\n",
       "        vertical-align: top;\n",
       "    }\n",
       "\n",
       "    .dataframe thead th {\n",
       "        text-align: right;\n",
       "    }\n",
       "</style>\n",
       "<table border=\"1\" class=\"dataframe\">\n",
       "  <thead>\n",
       "    <tr style=\"text-align: right;\">\n",
       "      <th></th>\n",
       "      <th>price</th>\n",
       "      <th>yearOfRegistration</th>\n",
       "      <th>monthOfRegistration</th>\n",
       "      <th>gearbox</th>\n",
       "      <th>powerPS</th>\n",
       "      <th>model</th>\n",
       "      <th>kilometer</th>\n",
       "      <th>fuelType</th>\n",
       "      <th>brand</th>\n",
       "      <th>vehicleType</th>\n",
       "    </tr>\n",
       "  </thead>\n",
       "  <tbody>\n",
       "    <tr>\n",
       "      <th>0</th>\n",
       "      <td>400</td>\n",
       "      <td>1992</td>\n",
       "      <td>8</td>\n",
       "      <td>manuell</td>\n",
       "      <td>89</td>\n",
       "      <td>escort</td>\n",
       "      <td>60000</td>\n",
       "      <td>benzin</td>\n",
       "      <td>ford</td>\n",
       "      <td>kombi</td>\n",
       "    </tr>\n",
       "    <tr>\n",
       "      <th>3</th>\n",
       "      <td>4000</td>\n",
       "      <td>2006</td>\n",
       "      <td>7</td>\n",
       "      <td>manuell</td>\n",
       "      <td>0</td>\n",
       "      <td>a3</td>\n",
       "      <td>150000</td>\n",
       "      <td>diesel</td>\n",
       "      <td>audi</td>\n",
       "      <td>limousine</td>\n",
       "    </tr>\n",
       "    <tr>\n",
       "      <th>4</th>\n",
       "      <td>2600</td>\n",
       "      <td>2002</td>\n",
       "      <td>7</td>\n",
       "      <td>automatik</td>\n",
       "      <td>41</td>\n",
       "      <td>fortwo</td>\n",
       "      <td>150000</td>\n",
       "      <td>diesel</td>\n",
       "      <td>smart</td>\n",
       "      <td>cabrio</td>\n",
       "    </tr>\n",
       "    <tr>\n",
       "      <th>5</th>\n",
       "      <td>2222</td>\n",
       "      <td>2001</td>\n",
       "      <td>10</td>\n",
       "      <td>manuell</td>\n",
       "      <td>143</td>\n",
       "      <td>3er</td>\n",
       "      <td>150000</td>\n",
       "      <td>benzin</td>\n",
       "      <td>bmw</td>\n",
       "      <td>limousine</td>\n",
       "    </tr>\n",
       "    <tr>\n",
       "      <th>6</th>\n",
       "      <td>4000</td>\n",
       "      <td>2008</td>\n",
       "      <td>11</td>\n",
       "      <td>manuell</td>\n",
       "      <td>69</td>\n",
       "      <td>yaris</td>\n",
       "      <td>125000</td>\n",
       "      <td>benzin</td>\n",
       "      <td>toyota</td>\n",
       "      <td>kleinwagen</td>\n",
       "    </tr>\n",
       "  </tbody>\n",
       "</table>\n",
       "</div>"
      ],
      "text/plain": [
       "   price  yearOfRegistration  monthOfRegistration    gearbox  powerPS   model  \\\n",
       "0    400                1992                    8    manuell       89  escort   \n",
       "3   4000                2006                    7    manuell        0      a3   \n",
       "4   2600                2002                    7  automatik       41  fortwo   \n",
       "5   2222                2001                   10    manuell      143     3er   \n",
       "6   4000                2008                   11    manuell       69   yaris   \n",
       "\n",
       "   kilometer fuelType   brand vehicleType  \n",
       "0      60000   benzin    ford       kombi  \n",
       "3     150000   diesel    audi   limousine  \n",
       "4     150000   diesel   smart      cabrio  \n",
       "5     150000   benzin     bmw   limousine  \n",
       "6     125000   benzin  toyota  kleinwagen  "
      ]
     },
     "execution_count": 13,
     "metadata": {},
     "output_type": "execute_result"
    }
   ],
   "source": [
    "dfm.head()\n"
   ]
  },
  {
   "cell_type": "markdown",
   "metadata": {},
   "source": [
    "# Categorical Encoding\n",
    "\n",
    "1. First encoded using LableEncoder\n",
    "2. Then Tried using dummy"
   ]
  },
  {
   "cell_type": "code",
   "execution_count": 14,
   "metadata": {},
   "outputs": [],
   "source": [
    "#encoding all the categorical columns using dummy variable\n",
    "\n",
    "\n",
    "\n",
    "#name_dummy=pd.get_dummies(dfm['name'])\n",
    "year_dummy=pd.get_dummies(dfm['yearOfRegistration'])\n",
    "month_dummy=pd.get_dummies(dfm['monthOfRegistration'])\n",
    "gearbox_dummy=pd.get_dummies(dfm['gearbox'])\n",
    "model_dummy=pd.get_dummies(dfm['model'])\n",
    "fuelType_dummy=pd.get_dummies(dfm['fuelType'])\n",
    "brand_dummy=pd.get_dummies(dfm['brand'])\n",
    "vehicleType_dummy=pd.get_dummies(dfm['vehicleType'])\n",
    "#powerPS_dummy=pd.get_dummies(dfm['powerPS'])"
   ]
  },
  {
   "cell_type": "code",
   "execution_count": 15,
   "metadata": {},
   "outputs": [],
   "source": [
    "#creating new dataframe by concating all the dummy variable and old dataframe\n",
    "\n",
    "\n",
    "new_dfm=pd.concat([dfm,year_dummy,month_dummy,gearbox_dummy,model_dummy,fuelType_dummy,brand_dummy,vehicleType_dummy],axis=1)"
   ]
  },
  {
   "cell_type": "code",
   "execution_count": 16,
   "metadata": {},
   "outputs": [],
   "source": [
    "#dropping the non encoded categorical features as some has object data type also\n",
    "\n",
    "\n",
    "new_dfm.drop(['yearOfRegistration','monthOfRegistration','gearbox','model','fuelType','brand','vehicleType'],axis=1,inplace=True)"
   ]
  },
  {
   "cell_type": "code",
   "execution_count": 36,
   "metadata": {},
   "outputs": [
    {
     "data": {
      "text/html": [
       "<div>\n",
       "<style scoped>\n",
       "    .dataframe tbody tr th:only-of-type {\n",
       "        vertical-align: middle;\n",
       "    }\n",
       "\n",
       "    .dataframe tbody tr th {\n",
       "        vertical-align: top;\n",
       "    }\n",
       "\n",
       "    .dataframe thead th {\n",
       "        text-align: right;\n",
       "    }\n",
       "</style>\n",
       "<table border=\"1\" class=\"dataframe\">\n",
       "  <thead>\n",
       "    <tr style=\"text-align: right;\">\n",
       "      <th></th>\n",
       "      <th>price</th>\n",
       "      <th>powerPS</th>\n",
       "      <th>kilometer</th>\n",
       "      <th>1986</th>\n",
       "      <th>1987</th>\n",
       "      <th>1988</th>\n",
       "      <th>1989</th>\n",
       "      <th>1990</th>\n",
       "      <th>1991</th>\n",
       "      <th>1992</th>\n",
       "      <th>...</th>\n",
       "      <th>volvo</th>\n",
       "      <th>&lt;bound method Series.mode of 0            kombi\\n1           cabrio\\n2            kombi\\n3        limousine\\n4           cabrio\\n           ...    \\n9995    kleinwagen\\n9996           bus\\n9997         kombi\\n9998    kleinwagen\\n9999     limousine\\nName: vehicleType, Length: 9985, dtype: object&gt;</th>\n",
       "      <th>andere</th>\n",
       "      <th>bus</th>\n",
       "      <th>cabrio</th>\n",
       "      <th>coupe</th>\n",
       "      <th>kleinwagen</th>\n",
       "      <th>kombi</th>\n",
       "      <th>limousine</th>\n",
       "      <th>suv</th>\n",
       "    </tr>\n",
       "  </thead>\n",
       "  <tbody>\n",
       "    <tr>\n",
       "      <th>0</th>\n",
       "      <td>400</td>\n",
       "      <td>89</td>\n",
       "      <td>60000</td>\n",
       "      <td>0</td>\n",
       "      <td>0</td>\n",
       "      <td>0</td>\n",
       "      <td>0</td>\n",
       "      <td>0</td>\n",
       "      <td>0</td>\n",
       "      <td>1</td>\n",
       "      <td>...</td>\n",
       "      <td>0</td>\n",
       "      <td>0</td>\n",
       "      <td>0</td>\n",
       "      <td>0</td>\n",
       "      <td>0</td>\n",
       "      <td>0</td>\n",
       "      <td>0</td>\n",
       "      <td>1</td>\n",
       "      <td>0</td>\n",
       "      <td>0</td>\n",
       "    </tr>\n",
       "    <tr>\n",
       "      <th>3</th>\n",
       "      <td>4000</td>\n",
       "      <td>0</td>\n",
       "      <td>150000</td>\n",
       "      <td>0</td>\n",
       "      <td>0</td>\n",
       "      <td>0</td>\n",
       "      <td>0</td>\n",
       "      <td>0</td>\n",
       "      <td>0</td>\n",
       "      <td>0</td>\n",
       "      <td>...</td>\n",
       "      <td>0</td>\n",
       "      <td>0</td>\n",
       "      <td>0</td>\n",
       "      <td>0</td>\n",
       "      <td>0</td>\n",
       "      <td>0</td>\n",
       "      <td>0</td>\n",
       "      <td>0</td>\n",
       "      <td>1</td>\n",
       "      <td>0</td>\n",
       "    </tr>\n",
       "    <tr>\n",
       "      <th>4</th>\n",
       "      <td>2600</td>\n",
       "      <td>41</td>\n",
       "      <td>150000</td>\n",
       "      <td>0</td>\n",
       "      <td>0</td>\n",
       "      <td>0</td>\n",
       "      <td>0</td>\n",
       "      <td>0</td>\n",
       "      <td>0</td>\n",
       "      <td>0</td>\n",
       "      <td>...</td>\n",
       "      <td>0</td>\n",
       "      <td>0</td>\n",
       "      <td>0</td>\n",
       "      <td>0</td>\n",
       "      <td>1</td>\n",
       "      <td>0</td>\n",
       "      <td>0</td>\n",
       "      <td>0</td>\n",
       "      <td>0</td>\n",
       "      <td>0</td>\n",
       "    </tr>\n",
       "    <tr>\n",
       "      <th>5</th>\n",
       "      <td>2222</td>\n",
       "      <td>143</td>\n",
       "      <td>150000</td>\n",
       "      <td>0</td>\n",
       "      <td>0</td>\n",
       "      <td>0</td>\n",
       "      <td>0</td>\n",
       "      <td>0</td>\n",
       "      <td>0</td>\n",
       "      <td>0</td>\n",
       "      <td>...</td>\n",
       "      <td>0</td>\n",
       "      <td>0</td>\n",
       "      <td>0</td>\n",
       "      <td>0</td>\n",
       "      <td>0</td>\n",
       "      <td>0</td>\n",
       "      <td>0</td>\n",
       "      <td>0</td>\n",
       "      <td>1</td>\n",
       "      <td>0</td>\n",
       "    </tr>\n",
       "    <tr>\n",
       "      <th>6</th>\n",
       "      <td>4000</td>\n",
       "      <td>69</td>\n",
       "      <td>125000</td>\n",
       "      <td>0</td>\n",
       "      <td>0</td>\n",
       "      <td>0</td>\n",
       "      <td>0</td>\n",
       "      <td>0</td>\n",
       "      <td>0</td>\n",
       "      <td>0</td>\n",
       "      <td>...</td>\n",
       "      <td>0</td>\n",
       "      <td>0</td>\n",
       "      <td>0</td>\n",
       "      <td>0</td>\n",
       "      <td>0</td>\n",
       "      <td>0</td>\n",
       "      <td>1</td>\n",
       "      <td>0</td>\n",
       "      <td>0</td>\n",
       "      <td>0</td>\n",
       "    </tr>\n",
       "  </tbody>\n",
       "</table>\n",
       "<p>5 rows × 322 columns</p>\n",
       "</div>"
      ],
      "text/plain": [
       "   price  powerPS  kilometer  1986  1987  1988  1989  1990  1991  1992  ...  \\\n",
       "0    400       89      60000     0     0     0     0     0     0     1  ...   \n",
       "3   4000        0     150000     0     0     0     0     0     0     0  ...   \n",
       "4   2600       41     150000     0     0     0     0     0     0     0  ...   \n",
       "5   2222      143     150000     0     0     0     0     0     0     0  ...   \n",
       "6   4000       69     125000     0     0     0     0     0     0     0  ...   \n",
       "\n",
       "   volvo  \\\n",
       "0      0   \n",
       "3      0   \n",
       "4      0   \n",
       "5      0   \n",
       "6      0   \n",
       "\n",
       "   <bound method Series.mode of 0            kombi\\n1           cabrio\\n2            kombi\\n3        limousine\\n4           cabrio\\n           ...    \\n9995    kleinwagen\\n9996           bus\\n9997         kombi\\n9998    kleinwagen\\n9999     limousine\\nName: vehicleType, Length: 9985, dtype: object>  \\\n",
       "0                                                  0                                                                                                                                                                                                                                                          \n",
       "3                                                  0                                                                                                                                                                                                                                                          \n",
       "4                                                  0                                                                                                                                                                                                                                                          \n",
       "5                                                  0                                                                                                                                                                                                                                                          \n",
       "6                                                  0                                                                                                                                                                                                                                                          \n",
       "\n",
       "   andere  bus  cabrio  coupe  kleinwagen  kombi  limousine  suv  \n",
       "0       0    0       0      0           0      1          0    0  \n",
       "3       0    0       0      0           0      0          1    0  \n",
       "4       0    0       1      0           0      0          0    0  \n",
       "5       0    0       0      0           0      0          1    0  \n",
       "6       0    0       0      0           1      0          0    0  \n",
       "\n",
       "[5 rows x 322 columns]"
      ]
     },
     "execution_count": 36,
     "metadata": {},
     "output_type": "execute_result"
    }
   ],
   "source": [
    "#trying to look at newly created encoded dataframe\n",
    "\n",
    "new_dfm.head()\n",
    "\n"
   ]
  },
  {
   "cell_type": "code",
   "execution_count": 17,
   "metadata": {},
   "outputs": [],
   "source": [
    "# Extracting values of input features and outcome individually \n",
    "\n",
    "\n",
    "\n",
    "\n",
    "X=new_dfm.iloc[:,1:].values\n",
    "y=new_dfm.iloc[:,0].values\n"
   ]
  },
  {
   "cell_type": "code",
   "execution_count": 18,
   "metadata": {},
   "outputs": [],
   "source": [
    "#splitting the data into train and test\n",
    "\n",
    "from sklearn.model_selection import train_test_split\n",
    "X_train,X_test,y_train,y_test=train_test_split(X,y, test_size=0.20,random_state=0)\n"
   ]
  },
  {
   "cell_type": "code",
   "execution_count": 19,
   "metadata": {},
   "outputs": [
    {
     "data": {
      "text/plain": [
       "LinearRegression()"
      ]
     },
     "execution_count": 19,
     "metadata": {},
     "output_type": "execute_result"
    }
   ],
   "source": [
    "#importing LinearRegression model and fitting with data\n",
    "\n",
    "\n",
    "from sklearn.linear_model import LinearRegression\n",
    "lr=LinearRegression()\n",
    "lr.fit(X_train,y_train)"
   ]
  },
  {
   "cell_type": "code",
   "execution_count": 20,
   "metadata": {},
   "outputs": [],
   "source": [
    "#Executing the code for prediction of the outcome\n",
    "\n",
    "y_pred=lr.predict(X_test)"
   ]
  },
  {
   "cell_type": "code",
   "execution_count": 22,
   "metadata": {},
   "outputs": [
    {
     "data": {
      "text/plain": [
       "(1885.2938886131788, 0.7584678730364411)"
      ]
     },
     "execution_count": 22,
     "metadata": {},
     "output_type": "execute_result"
    }
   ],
   "source": [
    "#another metrics to check accuracy and error\n",
    "\n",
    "from sklearn.metrics import mean_squared_error\n",
    "from math import sqrt\n",
    "rmse=sqrt(mean_squared_error(y_test,y_pred))\n",
    "from sklearn.metrics import r2_score\n",
    "r2=r2_score(y_test,y_pred)\n",
    "rmse,r2"
   ]
  },
  {
   "cell_type": "markdown",
   "metadata": {},
   "source": [
    "# Note\n",
    "\n",
    "1. My model reachd max to 0.92 lr.score while r2 score was .82, \n",
    "   but in that case the final dataset has very low quantity of data\n",
    "   shape reduced from around 9k rows to 2.5k rows only so i decided to not use that set of data\n",
    "\n",
    "2. While altering only two features kilometers and price columns my model accuracy score was changing.\n",
    "\n",
    "3.I noticed as score was getting better my error was getting increased. \n",
    "  The least error i colud get my model to calculate was around 1k while r2 score was .68 "
   ]
  },
  {
   "cell_type": "code",
   "execution_count": null,
   "metadata": {},
   "outputs": [],
   "source": []
  }
 ],
 "metadata": {
  "colab": {
   "collapsed_sections": [],
   "name": "Stats & ML Assignment Part 2.ipynb",
   "provenance": [],
   "version": "0.3.2"
  },
  "interpreter": {
   "hash": "369f2c481f4da34e4445cda3fffd2e751bd1c4d706f27375911949ba6bb62e1c"
  },
  "kernelspec": {
   "display_name": "Python 3 (ipykernel)",
   "language": "python",
   "name": "python3"
  },
  "language_info": {
   "codemirror_mode": {
    "name": "ipython",
    "version": 3
   },
   "file_extension": ".py",
   "mimetype": "text/x-python",
   "name": "python",
   "nbconvert_exporter": "python",
   "pygments_lexer": "ipython3",
   "version": "3.9.12"
  }
 },
 "nbformat": 4,
 "nbformat_minor": 1
}
