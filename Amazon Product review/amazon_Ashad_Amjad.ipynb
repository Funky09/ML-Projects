{
 "cells": [
  {
   "cell_type": "markdown",
   "id": "2d2dc1c1",
   "metadata": {},
   "source": [
    "# Advance ML Assignment on Product Review Sentiment Analysis \n",
    "\n",
    "# by Ashad Amjad"
   ]
  },
  {
   "cell_type": "code",
   "execution_count": 1,
   "id": "223e1f09",
   "metadata": {},
   "outputs": [],
   "source": [
    "# importing required libraries\n",
    "\n",
    "import numpy as np\n",
    "import pandas as pd\n",
    "import warnings\n",
    "import seaborn as sns\n",
    "import matplotlib.pyplot as plt\n",
    "import math\n",
    "\n",
    "warnings.filterwarnings('ignore')\n",
    "\n",
    "\n",
    "from nltk.corpus import stopwords\n",
    "import re\n",
    "from nltk.stem.porter import PorterStemmer\n",
    "ps = PorterStemmer()"
   ]
  },
  {
   "cell_type": "code",
   "execution_count": 2,
   "id": "1350f4ae",
   "metadata": {},
   "outputs": [],
   "source": [
    "#loading data \n",
    "\n",
    "df=pd.read_csv(\"amazon_baby.csv\")"
   ]
  },
  {
   "cell_type": "code",
   "execution_count": 3,
   "id": "344b3bfa",
   "metadata": {},
   "outputs": [
    {
     "data": {
      "text/html": [
       "<div>\n",
       "<style scoped>\n",
       "    .dataframe tbody tr th:only-of-type {\n",
       "        vertical-align: middle;\n",
       "    }\n",
       "\n",
       "    .dataframe tbody tr th {\n",
       "        vertical-align: top;\n",
       "    }\n",
       "\n",
       "    .dataframe thead th {\n",
       "        text-align: right;\n",
       "    }\n",
       "</style>\n",
       "<table border=\"1\" class=\"dataframe\">\n",
       "  <thead>\n",
       "    <tr style=\"text-align: right;\">\n",
       "      <th></th>\n",
       "      <th>name</th>\n",
       "      <th>review</th>\n",
       "      <th>rating</th>\n",
       "    </tr>\n",
       "  </thead>\n",
       "  <tbody>\n",
       "    <tr>\n",
       "      <th>0</th>\n",
       "      <td>Planetwise Flannel Wipes</td>\n",
       "      <td>These flannel wipes are OK, but in my opinion ...</td>\n",
       "      <td>3</td>\n",
       "    </tr>\n",
       "    <tr>\n",
       "      <th>1</th>\n",
       "      <td>Planetwise Wipe Pouch</td>\n",
       "      <td>it came early and was not disappointed. i love...</td>\n",
       "      <td>5</td>\n",
       "    </tr>\n",
       "    <tr>\n",
       "      <th>2</th>\n",
       "      <td>Annas Dream Full Quilt with 2 Shams</td>\n",
       "      <td>Very soft and comfortable and warmer than it l...</td>\n",
       "      <td>5</td>\n",
       "    </tr>\n",
       "    <tr>\n",
       "      <th>3</th>\n",
       "      <td>Stop Pacifier Sucking without tears with Thumb...</td>\n",
       "      <td>This is a product well worth the purchase.  I ...</td>\n",
       "      <td>5</td>\n",
       "    </tr>\n",
       "    <tr>\n",
       "      <th>4</th>\n",
       "      <td>Stop Pacifier Sucking without tears with Thumb...</td>\n",
       "      <td>All of my kids have cried non-stop when I trie...</td>\n",
       "      <td>5</td>\n",
       "    </tr>\n",
       "  </tbody>\n",
       "</table>\n",
       "</div>"
      ],
      "text/plain": [
       "                                                name  \\\n",
       "0                           Planetwise Flannel Wipes   \n",
       "1                              Planetwise Wipe Pouch   \n",
       "2                Annas Dream Full Quilt with 2 Shams   \n",
       "3  Stop Pacifier Sucking without tears with Thumb...   \n",
       "4  Stop Pacifier Sucking without tears with Thumb...   \n",
       "\n",
       "                                              review  rating  \n",
       "0  These flannel wipes are OK, but in my opinion ...       3  \n",
       "1  it came early and was not disappointed. i love...       5  \n",
       "2  Very soft and comfortable and warmer than it l...       5  \n",
       "3  This is a product well worth the purchase.  I ...       5  \n",
       "4  All of my kids have cried non-stop when I trie...       5  "
      ]
     },
     "execution_count": 3,
     "metadata": {},
     "output_type": "execute_result"
    }
   ],
   "source": [
    "#reading the data\n",
    "\n",
    "df.head()"
   ]
  },
  {
   "cell_type": "code",
   "execution_count": 4,
   "id": "3f5437b6",
   "metadata": {},
   "outputs": [
    {
     "data": {
      "text/plain": [
       "name      318\n",
       "review    829\n",
       "rating      0\n",
       "dtype: int64"
      ]
     },
     "execution_count": 4,
     "metadata": {},
     "output_type": "execute_result"
    }
   ],
   "source": [
    "# checking for null\n",
    "df.isnull().sum()"
   ]
  },
  {
   "cell_type": "code",
   "execution_count": 3,
   "id": "0cd138a6",
   "metadata": {},
   "outputs": [],
   "source": [
    "# replacing nan with nothing\n",
    "\n",
    "df=df.fillna('nothing')"
   ]
  },
  {
   "cell_type": "code",
   "execution_count": 6,
   "id": "c866adac",
   "metadata": {},
   "outputs": [
    {
     "data": {
      "text/plain": [
       "name      0\n",
       "review    0\n",
       "rating    0\n",
       "dtype: int64"
      ]
     },
     "execution_count": 6,
     "metadata": {},
     "output_type": "execute_result"
    }
   ],
   "source": [
    "# checking for null after replacement\n",
    "\n",
    "df.isnull().sum()"
   ]
  },
  {
   "cell_type": "code",
   "execution_count": 4,
   "id": "0b497725",
   "metadata": {},
   "outputs": [],
   "source": [
    "# defining function to remove punctuations\n",
    "\n",
    "def remove_punctuation(text):\n",
    "    import string\n",
    "    translator = str.maketrans('', '', string.punctuation)\n",
    "    return text.translate(translator)"
   ]
  },
  {
   "cell_type": "code",
   "execution_count": 8,
   "id": "cc45198d",
   "metadata": {},
   "outputs": [
    {
     "name": "stdout",
     "output_type": "stream",
     "text": [
      "<class 'pandas.core.frame.DataFrame'>\n",
      "RangeIndex: 183531 entries, 0 to 183530\n",
      "Data columns (total 3 columns):\n",
      " #   Column  Non-Null Count   Dtype \n",
      "---  ------  --------------   ----- \n",
      " 0   name    183531 non-null  object\n",
      " 1   review  183531 non-null  object\n",
      " 2   rating  183531 non-null  int64 \n",
      "dtypes: int64(1), object(2)\n",
      "memory usage: 4.2+ MB\n"
     ]
    }
   ],
   "source": [
    "# checking data types of columns\n",
    "\n",
    "df.info()"
   ]
  },
  {
   "cell_type": "code",
   "execution_count": 5,
   "id": "421deeb6",
   "metadata": {},
   "outputs": [],
   "source": [
    "# changing data type of review to string\n",
    "\n",
    "df['review'] = df['review'].astype(str) "
   ]
  },
  {
   "cell_type": "code",
   "execution_count": 6,
   "id": "75f77519",
   "metadata": {},
   "outputs": [],
   "source": [
    "# creating a corpus to store clean text\n",
    "\n",
    "corpus=[]\n",
    "for i in df['review']:\n",
    "    review=i.lower()\n",
    "    review=remove_punctuation(review)\n",
    "    corpus.append(review)\n",
    "    \n",
    "    \n",
    "    "
   ]
  },
  {
   "cell_type": "code",
   "execution_count": 7,
   "id": "53cc1b73",
   "metadata": {},
   "outputs": [],
   "source": [
    "# creating new columns in the data frame\n",
    "\n",
    "df['review_clean']=corpus"
   ]
  },
  {
   "cell_type": "code",
   "execution_count": 9,
   "id": "aff7ada5",
   "metadata": {
    "scrolled": false
   },
   "outputs": [
    {
     "data": {
      "text/html": [
       "<div>\n",
       "<style scoped>\n",
       "    .dataframe tbody tr th:only-of-type {\n",
       "        vertical-align: middle;\n",
       "    }\n",
       "\n",
       "    .dataframe tbody tr th {\n",
       "        vertical-align: top;\n",
       "    }\n",
       "\n",
       "    .dataframe thead th {\n",
       "        text-align: right;\n",
       "    }\n",
       "</style>\n",
       "<table border=\"1\" class=\"dataframe\">\n",
       "  <thead>\n",
       "    <tr style=\"text-align: right;\">\n",
       "      <th></th>\n",
       "      <th>name</th>\n",
       "      <th>review</th>\n",
       "      <th>rating</th>\n",
       "      <th>review_clean</th>\n",
       "    </tr>\n",
       "  </thead>\n",
       "  <tbody>\n",
       "    <tr>\n",
       "      <th>0</th>\n",
       "      <td>Planetwise Flannel Wipes</td>\n",
       "      <td>These flannel wipes are OK, but in my opinion ...</td>\n",
       "      <td>3</td>\n",
       "      <td>these flannel wipes are ok but in my opinion n...</td>\n",
       "    </tr>\n",
       "    <tr>\n",
       "      <th>1</th>\n",
       "      <td>Planetwise Wipe Pouch</td>\n",
       "      <td>it came early and was not disappointed. i love...</td>\n",
       "      <td>5</td>\n",
       "      <td>it came early and was not disappointed i love ...</td>\n",
       "    </tr>\n",
       "    <tr>\n",
       "      <th>2</th>\n",
       "      <td>Annas Dream Full Quilt with 2 Shams</td>\n",
       "      <td>Very soft and comfortable and warmer than it l...</td>\n",
       "      <td>5</td>\n",
       "      <td>very soft and comfortable and warmer than it l...</td>\n",
       "    </tr>\n",
       "    <tr>\n",
       "      <th>3</th>\n",
       "      <td>Stop Pacifier Sucking without tears with Thumb...</td>\n",
       "      <td>This is a product well worth the purchase.  I ...</td>\n",
       "      <td>5</td>\n",
       "      <td>this is a product well worth the purchase  i h...</td>\n",
       "    </tr>\n",
       "    <tr>\n",
       "      <th>4</th>\n",
       "      <td>Stop Pacifier Sucking without tears with Thumb...</td>\n",
       "      <td>All of my kids have cried non-stop when I trie...</td>\n",
       "      <td>5</td>\n",
       "      <td>all of my kids have cried nonstop when i tried...</td>\n",
       "    </tr>\n",
       "  </tbody>\n",
       "</table>\n",
       "</div>"
      ],
      "text/plain": [
       "                                                name  \\\n",
       "0                           Planetwise Flannel Wipes   \n",
       "1                              Planetwise Wipe Pouch   \n",
       "2                Annas Dream Full Quilt with 2 Shams   \n",
       "3  Stop Pacifier Sucking without tears with Thumb...   \n",
       "4  Stop Pacifier Sucking without tears with Thumb...   \n",
       "\n",
       "                                              review  rating  \\\n",
       "0  These flannel wipes are OK, but in my opinion ...       3   \n",
       "1  it came early and was not disappointed. i love...       5   \n",
       "2  Very soft and comfortable and warmer than it l...       5   \n",
       "3  This is a product well worth the purchase.  I ...       5   \n",
       "4  All of my kids have cried non-stop when I trie...       5   \n",
       "\n",
       "                                        review_clean  \n",
       "0  these flannel wipes are ok but in my opinion n...  \n",
       "1  it came early and was not disappointed i love ...  \n",
       "2  very soft and comfortable and warmer than it l...  \n",
       "3  this is a product well worth the purchase  i h...  \n",
       "4  all of my kids have cried nonstop when i tried...  "
      ]
     },
     "execution_count": 9,
     "metadata": {},
     "output_type": "execute_result"
    }
   ],
   "source": [
    "df.head()"
   ]
  },
  {
   "cell_type": "code",
   "execution_count": 8,
   "id": "e0a142be",
   "metadata": {},
   "outputs": [],
   "source": [
    "# creating new data frame by removing rating 3,which is neutral review\n",
    "df_rated=df[df['rating'] != 3]"
   ]
  },
  {
   "cell_type": "code",
   "execution_count": 11,
   "id": "a952f681",
   "metadata": {},
   "outputs": [
    {
     "data": {
      "text/html": [
       "<div>\n",
       "<style scoped>\n",
       "    .dataframe tbody tr th:only-of-type {\n",
       "        vertical-align: middle;\n",
       "    }\n",
       "\n",
       "    .dataframe tbody tr th {\n",
       "        vertical-align: top;\n",
       "    }\n",
       "\n",
       "    .dataframe thead th {\n",
       "        text-align: right;\n",
       "    }\n",
       "</style>\n",
       "<table border=\"1\" class=\"dataframe\">\n",
       "  <thead>\n",
       "    <tr style=\"text-align: right;\">\n",
       "      <th></th>\n",
       "      <th>name</th>\n",
       "      <th>review</th>\n",
       "      <th>rating</th>\n",
       "      <th>review_clean</th>\n",
       "    </tr>\n",
       "  </thead>\n",
       "  <tbody>\n",
       "    <tr>\n",
       "      <th>1</th>\n",
       "      <td>Planetwise Wipe Pouch</td>\n",
       "      <td>it came early and was not disappointed. i love...</td>\n",
       "      <td>5</td>\n",
       "      <td>it came early and was not disappointed i love ...</td>\n",
       "    </tr>\n",
       "    <tr>\n",
       "      <th>2</th>\n",
       "      <td>Annas Dream Full Quilt with 2 Shams</td>\n",
       "      <td>Very soft and comfortable and warmer than it l...</td>\n",
       "      <td>5</td>\n",
       "      <td>very soft and comfortable and warmer than it l...</td>\n",
       "    </tr>\n",
       "    <tr>\n",
       "      <th>3</th>\n",
       "      <td>Stop Pacifier Sucking without tears with Thumb...</td>\n",
       "      <td>This is a product well worth the purchase.  I ...</td>\n",
       "      <td>5</td>\n",
       "      <td>this is a product well worth the purchase  i h...</td>\n",
       "    </tr>\n",
       "    <tr>\n",
       "      <th>4</th>\n",
       "      <td>Stop Pacifier Sucking without tears with Thumb...</td>\n",
       "      <td>All of my kids have cried non-stop when I trie...</td>\n",
       "      <td>5</td>\n",
       "      <td>all of my kids have cried nonstop when i tried...</td>\n",
       "    </tr>\n",
       "    <tr>\n",
       "      <th>5</th>\n",
       "      <td>Stop Pacifier Sucking without tears with Thumb...</td>\n",
       "      <td>When the Binky Fairy came to our house, we did...</td>\n",
       "      <td>5</td>\n",
       "      <td>when the binky fairy came to our house we didn...</td>\n",
       "    </tr>\n",
       "  </tbody>\n",
       "</table>\n",
       "</div>"
      ],
      "text/plain": [
       "                                                name  \\\n",
       "1                              Planetwise Wipe Pouch   \n",
       "2                Annas Dream Full Quilt with 2 Shams   \n",
       "3  Stop Pacifier Sucking without tears with Thumb...   \n",
       "4  Stop Pacifier Sucking without tears with Thumb...   \n",
       "5  Stop Pacifier Sucking without tears with Thumb...   \n",
       "\n",
       "                                              review  rating  \\\n",
       "1  it came early and was not disappointed. i love...       5   \n",
       "2  Very soft and comfortable and warmer than it l...       5   \n",
       "3  This is a product well worth the purchase.  I ...       5   \n",
       "4  All of my kids have cried non-stop when I trie...       5   \n",
       "5  When the Binky Fairy came to our house, we did...       5   \n",
       "\n",
       "                                        review_clean  \n",
       "1  it came early and was not disappointed i love ...  \n",
       "2  very soft and comfortable and warmer than it l...  \n",
       "3  this is a product well worth the purchase  i h...  \n",
       "4  all of my kids have cried nonstop when i tried...  \n",
       "5  when the binky fairy came to our house we didn...  "
      ]
     },
     "execution_count": 11,
     "metadata": {},
     "output_type": "execute_result"
    }
   ],
   "source": [
    "df_rated.head()"
   ]
  },
  {
   "cell_type": "code",
   "execution_count": 9,
   "id": "15caffe7",
   "metadata": {},
   "outputs": [],
   "source": [
    "# creating a new attributes having sentiments of the review based on rating\n",
    "\n",
    "df_rated.loc[df_rated['rating'] >3,\"sentiment\"]=\"Positive\"\n",
    "df_rated.loc[df_rated['rating'] <3,\"sentiment\"]=\"Negative\""
   ]
  },
  {
   "cell_type": "code",
   "execution_count": 16,
   "id": "1ad4a93b",
   "metadata": {},
   "outputs": [
    {
     "data": {
      "text/plain": [
       "Positive    140259\n",
       "Negative     26493\n",
       "Name: sentiment, dtype: int64"
      ]
     },
     "execution_count": 16,
     "metadata": {},
     "output_type": "execute_result"
    }
   ],
   "source": [
    "df_rated.sentiment.value_counts()"
   ]
  },
  {
   "cell_type": "code",
   "execution_count": 10,
   "id": "01da553e",
   "metadata": {},
   "outputs": [],
   "source": [
    "# creating label for Positive sentiment to +1 and negative sentiment to -1\n",
    "\n",
    "df_rated.loc[df_rated['rating'] >3,\"label\"]=+1\n",
    "df_rated.loc[df_rated['rating'] <3,\"label\"]=-1"
   ]
  },
  {
   "cell_type": "code",
   "execution_count": 14,
   "id": "aa5d1499",
   "metadata": {
    "scrolled": true
   },
   "outputs": [
    {
     "data": {
      "text/plain": [
       " 1.0    140259\n",
       "-1.0     26493\n",
       "Name: label, dtype: int64"
      ]
     },
     "execution_count": 14,
     "metadata": {},
     "output_type": "execute_result"
    }
   ],
   "source": [
    "# showing count\n",
    "\n",
    "df_rated.label.value_counts()"
   ]
  },
  {
   "cell_type": "code",
   "execution_count": 68,
   "id": "25b7e3fb",
   "metadata": {},
   "outputs": [
    {
     "data": {
      "text/plain": [
       "(166752, 6)"
      ]
     },
     "execution_count": 68,
     "metadata": {},
     "output_type": "execute_result"
    }
   ],
   "source": [
    "df_rated.shape"
   ]
  },
  {
   "cell_type": "markdown",
   "id": "5c9ae827",
   "metadata": {},
   "source": [
    "# Splitting The Data"
   ]
  },
  {
   "cell_type": "code",
   "execution_count": 11,
   "id": "97ea8de5",
   "metadata": {},
   "outputs": [],
   "source": [
    "# Re-sampling the data by creating new data frame\n",
    "\n",
    "df_model=df_rated.sample(frac=1).reset_index().drop(['index',\"name\",\"review\",\"sentiment\"],1)"
   ]
  },
  {
   "cell_type": "code",
   "execution_count": 16,
   "id": "007f93e8",
   "metadata": {
    "scrolled": false
   },
   "outputs": [
    {
     "data": {
      "text/html": [
       "<div>\n",
       "<style scoped>\n",
       "    .dataframe tbody tr th:only-of-type {\n",
       "        vertical-align: middle;\n",
       "    }\n",
       "\n",
       "    .dataframe tbody tr th {\n",
       "        vertical-align: top;\n",
       "    }\n",
       "\n",
       "    .dataframe thead th {\n",
       "        text-align: right;\n",
       "    }\n",
       "</style>\n",
       "<table border=\"1\" class=\"dataframe\">\n",
       "  <thead>\n",
       "    <tr style=\"text-align: right;\">\n",
       "      <th></th>\n",
       "      <th>rating</th>\n",
       "      <th>review_clean</th>\n",
       "      <th>label</th>\n",
       "    </tr>\n",
       "  </thead>\n",
       "  <tbody>\n",
       "    <tr>\n",
       "      <th>0</th>\n",
       "      <td>5</td>\n",
       "      <td>received exactly what i ordered i wish you cou...</td>\n",
       "      <td>1.0</td>\n",
       "    </tr>\n",
       "    <tr>\n",
       "      <th>1</th>\n",
       "      <td>2</td>\n",
       "      <td>within a day of attaching these my 9moold had ...</td>\n",
       "      <td>-1.0</td>\n",
       "    </tr>\n",
       "    <tr>\n",
       "      <th>2</th>\n",
       "      <td>1</td>\n",
       "      <td>do not buy these for breast milk storage they ...</td>\n",
       "      <td>-1.0</td>\n",
       "    </tr>\n",
       "    <tr>\n",
       "      <th>3</th>\n",
       "      <td>1</td>\n",
       "      <td>do not buy this travel system because the stra...</td>\n",
       "      <td>-1.0</td>\n",
       "    </tr>\n",
       "    <tr>\n",
       "      <th>4</th>\n",
       "      <td>1</td>\n",
       "      <td>i bought this before my baby was born i tried ...</td>\n",
       "      <td>-1.0</td>\n",
       "    </tr>\n",
       "  </tbody>\n",
       "</table>\n",
       "</div>"
      ],
      "text/plain": [
       "   rating                                       review_clean  label\n",
       "0       5  received exactly what i ordered i wish you cou...    1.0\n",
       "1       2  within a day of attaching these my 9moold had ...   -1.0\n",
       "2       1  do not buy these for breast milk storage they ...   -1.0\n",
       "3       1  do not buy this travel system because the stra...   -1.0\n",
       "4       1  i bought this before my baby was born i tried ...   -1.0"
      ]
     },
     "execution_count": 16,
     "metadata": {},
     "output_type": "execute_result"
    }
   ],
   "source": [
    "df_model.head()"
   ]
  },
  {
   "cell_type": "markdown",
   "id": "b1e509ad",
   "metadata": {
    "collapsed": true
   },
   "source": [
    "# removing stopwords from the review clean\n",
    "\n",
    "df_model[\"review_clean\"]=[ps.stem(word) for word in df_model[\"review_clean\"] if not word in stopwords.words('english')]  "
   ]
  },
  {
   "cell_type": "code",
   "execution_count": 12,
   "id": "0b0be6d7",
   "metadata": {},
   "outputs": [],
   "source": [
    "# initialising split parameter\n",
    "\n",
    "s_f=0.8\n",
    "n_train = math.floor(s_f * df_model.shape[0])\n",
    "n_test = math.ceil((1-s_f) * df_model.shape[0])"
   ]
  },
  {
   "cell_type": "code",
   "execution_count": 13,
   "id": "8216be4d",
   "metadata": {},
   "outputs": [],
   "source": [
    "#pull train and test data from products data using the index docs\n",
    "train_data = df_model.iloc[:n_train]\n",
    "test_data = df_model.iloc[n_train:]"
   ]
  },
  {
   "cell_type": "code",
   "execution_count": 24,
   "id": "0b969daf",
   "metadata": {},
   "outputs": [
    {
     "name": "stdout",
     "output_type": "stream",
     "text": [
      "133401\n",
      "33351\n"
     ]
    }
   ],
   "source": [
    "print(len(train_data))\n",
    "print(len(test_data))"
   ]
  },
  {
   "cell_type": "code",
   "execution_count": 74,
   "id": "3dc089e9",
   "metadata": {},
   "outputs": [
    {
     "data": {
      "text/html": [
       "<div>\n",
       "<style scoped>\n",
       "    .dataframe tbody tr th:only-of-type {\n",
       "        vertical-align: middle;\n",
       "    }\n",
       "\n",
       "    .dataframe tbody tr th {\n",
       "        vertical-align: top;\n",
       "    }\n",
       "\n",
       "    .dataframe thead th {\n",
       "        text-align: right;\n",
       "    }\n",
       "</style>\n",
       "<table border=\"1\" class=\"dataframe\">\n",
       "  <thead>\n",
       "    <tr style=\"text-align: right;\">\n",
       "      <th></th>\n",
       "      <th>rating</th>\n",
       "      <th>review_clean</th>\n",
       "      <th>label</th>\n",
       "    </tr>\n",
       "  </thead>\n",
       "  <tbody>\n",
       "    <tr>\n",
       "      <th>0</th>\n",
       "      <td>5</td>\n",
       "      <td>when looking for a sleep machine there were a ...</td>\n",
       "      <td>1.0</td>\n",
       "    </tr>\n",
       "    <tr>\n",
       "      <th>1</th>\n",
       "      <td>5</td>\n",
       "      <td>our daughter loves her froggy potty and she lo...</td>\n",
       "      <td>1.0</td>\n",
       "    </tr>\n",
       "    <tr>\n",
       "      <th>2</th>\n",
       "      <td>1</td>\n",
       "      <td>i have bought many of these in the past from o...</td>\n",
       "      <td>-1.0</td>\n",
       "    </tr>\n",
       "    <tr>\n",
       "      <th>3</th>\n",
       "      <td>5</td>\n",
       "      <td>we havent had any leaks with this wool cover i...</td>\n",
       "      <td>1.0</td>\n",
       "    </tr>\n",
       "    <tr>\n",
       "      <th>4</th>\n",
       "      <td>5</td>\n",
       "      <td>the pump works great just what i expected  it ...</td>\n",
       "      <td>1.0</td>\n",
       "    </tr>\n",
       "  </tbody>\n",
       "</table>\n",
       "</div>"
      ],
      "text/plain": [
       "   rating                                       review_clean  label\n",
       "0       5  when looking for a sleep machine there were a ...    1.0\n",
       "1       5  our daughter loves her froggy potty and she lo...    1.0\n",
       "2       1  i have bought many of these in the past from o...   -1.0\n",
       "3       5  we havent had any leaks with this wool cover i...    1.0\n",
       "4       5  the pump works great just what i expected  it ...    1.0"
      ]
     },
     "execution_count": 74,
     "metadata": {},
     "output_type": "execute_result"
    }
   ],
   "source": [
    "train_data.head()"
   ]
  },
  {
   "cell_type": "code",
   "execution_count": 25,
   "id": "03660575",
   "metadata": {},
   "outputs": [
    {
     "data": {
      "text/html": [
       "<div>\n",
       "<style scoped>\n",
       "    .dataframe tbody tr th:only-of-type {\n",
       "        vertical-align: middle;\n",
       "    }\n",
       "\n",
       "    .dataframe tbody tr th {\n",
       "        vertical-align: top;\n",
       "    }\n",
       "\n",
       "    .dataframe thead th {\n",
       "        text-align: right;\n",
       "    }\n",
       "</style>\n",
       "<table border=\"1\" class=\"dataframe\">\n",
       "  <thead>\n",
       "    <tr style=\"text-align: right;\">\n",
       "      <th></th>\n",
       "      <th>rating</th>\n",
       "      <th>review_clean</th>\n",
       "      <th>label</th>\n",
       "    </tr>\n",
       "  </thead>\n",
       "  <tbody>\n",
       "    <tr>\n",
       "      <th>133401</th>\n",
       "      <td>5</td>\n",
       "      <td>i love this product and highly recommend it to...</td>\n",
       "      <td>1.0</td>\n",
       "    </tr>\n",
       "    <tr>\n",
       "      <th>133402</th>\n",
       "      <td>5</td>\n",
       "      <td>i purchased this item for my new grand daughte...</td>\n",
       "      <td>1.0</td>\n",
       "    </tr>\n",
       "    <tr>\n",
       "      <th>133403</th>\n",
       "      <td>1</td>\n",
       "      <td>i took this on a trip so i wouldnt have to was...</td>\n",
       "      <td>-1.0</td>\n",
       "    </tr>\n",
       "    <tr>\n",
       "      <th>133404</th>\n",
       "      <td>4</td>\n",
       "      <td>i am pregnant with 3 and i just took this out ...</td>\n",
       "      <td>1.0</td>\n",
       "    </tr>\n",
       "    <tr>\n",
       "      <th>133405</th>\n",
       "      <td>5</td>\n",
       "      <td>weve been using britax for our boy now 14 mont...</td>\n",
       "      <td>1.0</td>\n",
       "    </tr>\n",
       "  </tbody>\n",
       "</table>\n",
       "</div>"
      ],
      "text/plain": [
       "        rating                                       review_clean  label\n",
       "133401       5  i love this product and highly recommend it to...    1.0\n",
       "133402       5  i purchased this item for my new grand daughte...    1.0\n",
       "133403       1  i took this on a trip so i wouldnt have to was...   -1.0\n",
       "133404       4  i am pregnant with 3 and i just took this out ...    1.0\n",
       "133405       5  weve been using britax for our boy now 14 mont...    1.0"
      ]
     },
     "execution_count": 25,
     "metadata": {},
     "output_type": "execute_result"
    }
   ],
   "source": [
    "test_data.head()"
   ]
  },
  {
   "cell_type": "code",
   "execution_count": 14,
   "id": "0c5f134e",
   "metadata": {},
   "outputs": [],
   "source": [
    "# initialising CountVectorizer\n",
    "\n",
    "from sklearn.feature_extraction.text import CountVectorizer\n",
    "cv = CountVectorizer(token_pattern=r'\\b\\w+\\b')\n"
   ]
  },
  {
   "cell_type": "code",
   "execution_count": 15,
   "id": "062fb00e",
   "metadata": {},
   "outputs": [],
   "source": [
    "# creating new variable by tokenizing train data review_clean column \n",
    "train_matrix=cv.fit_transform(train_data.review_clean)\n"
   ]
  },
  {
   "cell_type": "code",
   "execution_count": 16,
   "id": "36ec9cdb",
   "metadata": {},
   "outputs": [],
   "source": [
    "# creating new variable by tokenizing test_data review_clean column \n",
    "test_matrix=cv.transform(test_data.review_clean)"
   ]
  },
  {
   "cell_type": "code",
   "execution_count": 17,
   "id": "396519a2",
   "metadata": {},
   "outputs": [
    {
     "name": "stdout",
     "output_type": "stream",
     "text": [
      "(133401, 121801)\n",
      "(33351, 121801)\n"
     ]
    }
   ],
   "source": [
    "# printing the shape of newly created variable above\n",
    "\n",
    "print(train_matrix.shape)\n",
    "print(test_matrix.shape)"
   ]
  },
  {
   "cell_type": "code",
   "execution_count": 18,
   "id": "09c125af",
   "metadata": {},
   "outputs": [],
   "source": [
    "#dividing data into dependent and independant variable\n",
    "\n",
    "X_train=train_matrix.copy()\n",
    "y_train=train_data[\"label\"].copy()\n",
    "X_test=test_matrix.copy()\n",
    "y_test=test_data[\"label\"].copy()"
   ]
  },
  {
   "cell_type": "code",
   "execution_count": 24,
   "id": "26708a8a",
   "metadata": {},
   "outputs": [
    {
     "data": {
      "text/plain": [
       "(133401, 121497)"
      ]
     },
     "execution_count": 24,
     "metadata": {},
     "output_type": "execute_result"
    }
   ],
   "source": [
    "X_train.shape"
   ]
  },
  {
   "cell_type": "code",
   "execution_count": 19,
   "id": "80d3feeb",
   "metadata": {},
   "outputs": [],
   "source": [
    "# importing and initialising Logistic regression for model training\n",
    "\n",
    "from sklearn.linear_model import LogisticRegression\n",
    "lr=LogisticRegression()"
   ]
  },
  {
   "cell_type": "code",
   "execution_count": 20,
   "id": "aa7351a9",
   "metadata": {},
   "outputs": [],
   "source": [
    "# Fitting the train and test data into model and makiing predictions\n",
    "\n",
    "lr.fit(X_train,y_train)\n",
    "y_pred=lr.predict(X_test)"
   ]
  },
  {
   "cell_type": "code",
   "execution_count": 21,
   "id": "08484bdc",
   "metadata": {},
   "outputs": [],
   "source": [
    "#importing all the required libraries for model evaluation\n",
    "\n",
    "from sklearn.metrics import accuracy_score\n",
    "from sklearn.metrics import confusion_matrix\n",
    "from sklearn.metrics import classification_report\n",
    "from sklearn.metrics import precision_score, recall_score, auc,roc_curve, f1_score\n",
    "from sklearn.metrics import roc_curve\n",
    "from sklearn.metrics import roc_auc_score"
   ]
  },
  {
   "cell_type": "code",
   "execution_count": 22,
   "id": "066f8d6e",
   "metadata": {},
   "outputs": [
    {
     "data": {
      "text/plain": [
       "0.9308566459776318"
      ]
     },
     "execution_count": 22,
     "metadata": {},
     "output_type": "execute_result"
    }
   ],
   "source": [
    "# checking accuracy score\n",
    "\n",
    "accuracy_score(y_test,y_pred)"
   ]
  },
  {
   "cell_type": "code",
   "execution_count": 23,
   "id": "ed33dcb0",
   "metadata": {},
   "outputs": [],
   "source": [
    "# saving confusion matrix into a variable\n",
    "\n",
    "cm=confusion_matrix(y_test,y_pred)\n"
   ]
  },
  {
   "cell_type": "code",
   "execution_count": 24,
   "id": "1212b25e",
   "metadata": {
    "scrolled": true
   },
   "outputs": [
    {
     "data": {
      "image/png": "[encoded data removed]",
      "text/plain": [
       "<Figure size 432x288 with 2 Axes>"
      ]
     },
     "metadata": {
      "needs_background": "light"
     },
     "output_type": "display_data"
    }
   ],
   "source": [
    "# plotting heatmap for confusion matrix\n",
    "\n",
    "ax= plt.subplot()\n",
    "sns.heatmap(cm, annot=True,cmap='coolwarm_r', fmt='g', ax=ax);  #annot=True to annotate cells, ftm='g' to disable scientific notation\n",
    "\n",
    "# labels, title and ticks\n",
    "ax.set_xlabel('Predicted labels');ax.set_ylabel('True labels'); \n",
    "ax.set_title('Confusion Matrix'); \n",
    "ax.xaxis.set_ticklabels(['-1', '+1']); ax.yaxis.set_ticklabels(['-1', '+1']);"
   ]
  },
  {
   "cell_type": "code",
   "execution_count": 25,
   "id": "1e8bbbac",
   "metadata": {},
   "outputs": [
    {
     "name": "stdout",
     "output_type": "stream",
     "text": [
      "              precision    recall  f1-score   support\n",
      "\n",
      "        -1.0       0.82      0.72      0.77      5327\n",
      "         1.0       0.95      0.97      0.96     28024\n",
      "\n",
      "    accuracy                           0.93     33351\n",
      "   macro avg       0.89      0.85      0.86     33351\n",
      "weighted avg       0.93      0.93      0.93     33351\n",
      "\n"
     ]
    }
   ],
   "source": [
    "# printing classification report\n",
    "\n",
    "print(classification_report(y_test,y_pred))"
   ]
  },
  {
   "cell_type": "markdown",
   "id": "39eb9adf",
   "metadata": {
    "collapsed": true
   },
   "source": [
    "# Base line Majority"
   ]
  },
  {
   "cell_type": "code",
   "execution_count": 26,
   "id": "ee8f2771",
   "metadata": {},
   "outputs": [
    {
     "name": "stdout",
     "output_type": "stream",
     "text": [
      "Baseline accuracy (majority class classifier): 0.8402746544331504\n"
     ]
    }
   ],
   "source": [
    "# Finding baseline\n",
    "\n",
    "baseline = len(test_data[test_data['label'] == 1])/len(test_data)\n",
    "print (\"Baseline accuracy (majority class classifier): %s\" % baseline)"
   ]
  },
  {
   "cell_type": "code",
   "execution_count": 27,
   "id": "097605a0",
   "metadata": {
    "scrolled": false
   },
   "outputs": [
    {
     "name": "stdout",
     "output_type": "stream",
     "text": [
      " target_label | predicted_label | count \n",
      "--------------+-----------------+-------\n",
      "    -1.0      |      -1.0       |  3838\n",
      "    -1.0      |       1.0       |  1489\n",
      "     1.0      |      -1.0       |   817\n",
      "     1.0      |       1.0       | 27207\n"
     ]
    }
   ],
   "source": [
    "# Printing confusion matrix\n",
    "\n",
    "\n",
    "#### \n",
    "print (' target_label | predicted_label | count ')\n",
    "print ('--------------+-----------------+-------')\n",
    "for i, target_label in enumerate(lr.classes_):\n",
    "    for j, predicted_label in enumerate(lr.classes_):\n",
    "        print ('{0:^13} | {1:^15} | {2:5d}'.format(target_label, predicted_label, cm[i,j]))"
   ]
  },
  {
   "cell_type": "markdown",
   "id": "e98a8f18",
   "metadata": {},
   "source": [
    "## Computing the cost of mistakes"
   ]
  },
  {
   "cell_type": "markdown",
   "id": "a5165846",
   "metadata": {},
   "source": [
    "Suppose you know the costs involved in each kind of mistake:\n",
    "\n",
    "1. $100 for each false positive.\n",
    "\n",
    "2. $1 for each false negative.\n",
    "\n",
    "Correctly classified reviews incur no cost.\n",
    "\n",
    "**Quiz Question: Given the stipulation, what is the cost associated with the logistic regression classifier's performance on the test set?**"
   ]
  },
  {
   "cell_type": "code",
   "execution_count": 28,
   "id": "540461fb",
   "metadata": {},
   "outputs": [
    {
     "name": "stdout",
     "output_type": "stream",
     "text": [
      "The Total cost associated with the logistic regression classifiers performance on the test set is: 230600\n"
     ]
    }
   ],
   "source": [
    "# calculating cost\n",
    "\n",
    "cost_fp=cm[1,0]*100\n",
    "cost_fn=cm[0,1]*100\n",
    "Total_cost=cost_fp+cost_fn\n",
    "print(f'The Total cost associated with the logistic regression classifiers performance on the test set is: {Total_cost}')"
   ]
  },
  {
   "cell_type": "markdown",
   "id": "9a3c002a",
   "metadata": {},
   "source": [
    "## Precision and Recall"
   ]
  },
  {
   "cell_type": "markdown",
   "id": "cda2ddde",
   "metadata": {},
   "source": [
    "You may not have exact dollar amounts for each kind of mistake. Instead, you may simply prefer to reduce the percentage of false positives to be less than, say, 3.5% of all positive predictions. This is where **precision** comes in:\n",
    "\n",
    "$$\n",
    "[\\text{precision}] = \\frac{[\\text{# positive data points with positive predicitions}]}{\\text{[# all data points with positive predictions]}} = \\frac{[\\text{# true positives}]}{[\\text{# true positives}] + [\\text{# false positives}]}\n",
    "$$"
   ]
  },
  {
   "cell_type": "markdown",
   "id": "31108f81",
   "metadata": {},
   "source": [
    "#### To do\n",
    "\n",
    "First, let us compute the precision of the logistic regression classifier on the test_data. Scikit-learn provides a predefined method for computing precision. (Consult appropriate manuals if you are using other tools.)"
   ]
  },
  {
   "cell_type": "code",
   "execution_count": 29,
   "id": "4e9e5b02",
   "metadata": {},
   "outputs": [
    {
     "name": "stdout",
     "output_type": "stream",
     "text": [
      "precision is :0.95\n"
     ]
    }
   ],
   "source": [
    "# Finding precision score of the model\n",
    "\n",
    "precision=precision_score(y_test,y_pred)\n",
    "print(f'precision is :{round(precision,2)}')"
   ]
  },
  {
   "cell_type": "markdown",
   "id": "698350c6",
   "metadata": {},
   "source": [
    "**Quiz Question:** Out of all reviews in the test set that are predicted to be positive, what fraction of them are false positives? (Round to the second decimal place e.g. 0.25)\n",
    "\n"
   ]
  },
  {
   "cell_type": "code",
   "execution_count": 35,
   "id": "d01543f4",
   "metadata": {},
   "outputs": [
    {
     "name": "stdout",
     "output_type": "stream",
     "text": [
      "The fraction of false positives is: 0.03\n"
     ]
    }
   ],
   "source": [
    "## Your Code\n",
    "\n",
    "# Ans of above question\n",
    "\n",
    "\n",
    "Fraction_fp=cm[1,0]/(cm[1,0]+cm[1,1])\n",
    "print(f'The fraction of false positives is: {round(Fraction_fp,2)}')"
   ]
  },
  {
   "cell_type": "markdown",
   "id": "c7abf857",
   "metadata": {},
   "source": [
    "A complementary metric is **recall**, which measures the ratio between the number of true positives and that of (ground-truth) positive reviews:\n",
    "\n",
    "$$\n",
    "[\\text{recall}] = \\frac{[\\text{# positive data points with positive predicitions}]}{\\text{[# all positive data points]}} = \\frac{[\\text{# true positives}]}{[\\text{# true positives}] + [\\text{# false negatives}]}\n",
    "$$\n",
    "\n",
    "#### To do \n",
    "Let us compute the recall on the **test_data**."
   ]
  },
  {
   "cell_type": "markdown",
   "id": "ea3510d2",
   "metadata": {},
   "source": [
    "**Recall**"
   ]
  },
  {
   "cell_type": "code",
   "execution_count": 36,
   "id": "d1ebd8f9",
   "metadata": {
    "scrolled": true
   },
   "outputs": [
    {
     "name": "stdout",
     "output_type": "stream",
     "text": [
      "Recall is :0.97\n"
     ]
    }
   ],
   "source": [
    "# Finding Recall value\n",
    "\n",
    "Recall=recall_score(y_test,y_pred)\n",
    "print(f'Recall is :{round(Recall,2)}')"
   ]
  },
  {
   "cell_type": "markdown",
   "id": "c23fba90",
   "metadata": {},
   "source": [
    "                                      \n",
    "                                      \n",
    "                                      \n",
    "                                      \n",
    "                                      \n",
    "                                      \n",
    "                                      "
   ]
  },
  {
   "cell_type": "markdown",
   "id": "8588d672",
   "metadata": {},
   "source": [
    "\n",
    "\n",
    "\n",
    "\n"
   ]
  },
  {
   "cell_type": "markdown",
   "id": "afd1f8da",
   "metadata": {},
   "source": [
    "**Quiz Question**: What fraction of the positive reviews in the **test_set** were correctly predicted as positive by the classifier?\n",
    "\n"
   ]
  },
  {
   "cell_type": "code",
   "execution_count": 37,
   "id": "ec08b659",
   "metadata": {
    "scrolled": true
   },
   "outputs": [
    {
     "name": "stdout",
     "output_type": "stream",
     "text": [
      "The fraction of the positive reviews in the test_set\n",
      " were correctly predicted as positive by the classifier is: 0.97\n"
     ]
    }
   ],
   "source": [
    "# Ans of above question\n",
    "\n",
    "Fraction_Pr=cm[1,1]/(cm[1,0]+cm[1,1])\n",
    "print(f'The fraction of the positive reviews in the test_set\\n were correctly predicted as positive by the classifier is: {round(Fraction_Pr,2)}')"
   ]
  },
  {
   "cell_type": "markdown",
   "id": "5b2d2604",
   "metadata": {},
   "source": [
    "\n",
    "\n",
    "\n"
   ]
  },
  {
   "cell_type": "markdown",
   "id": "e3005f9b",
   "metadata": {},
   "source": [
    "**Quiz Question**: What is the recall value for a classifier that predicts **+1** for all data points in the **test_data**?"
   ]
  },
  {
   "cell_type": "code",
   "execution_count": 38,
   "id": "685cd116",
   "metadata": {},
   "outputs": [
    {
     "name": "stdout",
     "output_type": "stream",
     "text": [
      "The recall value for a classifier that predicts +1\n",
      " for all data points in the test_datal is :0.97\n"
     ]
    }
   ],
   "source": [
    "# Ans of above question\n",
    "\n",
    "Recall_pos1=cm[1,1]/(cm[1,1]+cm[1,0])\n",
    "print(f'The recall value for a classifier that predicts +1\\n for all data points in the test_datal is :{round(Recall_pos1,2)}')"
   ]
  },
  {
   "cell_type": "markdown",
   "id": "70309c55",
   "metadata": {},
   "source": [
    "# Precision-recall tradeoff\n",
    "\n",
    "In this part, we will explore the trade-off between precision and recall discussed in the lecture.  We first examine what happens when we use a different threshold value for making class predictions.  We then explore a range of threshold values and plot the associated precision-recall curve.  \n",
    "\n"
   ]
  },
  {
   "cell_type": "markdown",
   "id": "02bf7d8d",
   "metadata": {},
   "source": [
    "## Varying the threshold\n",
    "\n",
    "False positives are costly in our example, so we may want to be more conservative about making positive predictions. To achieve this, instead of thresholding class probabilities at 0.5, we can choose a higher threshold. \n",
    "\n",
    "#### To do\n",
    "Write a function called `apply_threshold` that accepts two things\n",
    "* `probabilities` (an SArray of probability values)\n",
    "* `threshold` (a float between 0 and 1).\n",
    "\n",
    "\n",
    "The function should return an SArray, where each element is set to +1 or -1 depending whether the corresponding probability exceeds `threshold`."
   ]
  },
  {
   "cell_type": "code",
   "execution_count": 42,
   "id": "a6c8c5ca",
   "metadata": {},
   "outputs": [
    {
     "data": {
      "text/plain": [
       "array([9.00598322e-01, 9.99516998e-01, 7.47310031e-04, ...,\n",
       "       3.95770708e-01, 9.97050530e-01, 6.71749335e-01])"
      ]
     },
     "execution_count": 42,
     "metadata": {},
     "output_type": "execute_result"
    }
   ],
   "source": [
    "# storing probablities of postive review\n",
    "\n",
    "probabilities = lr.predict_proba(test_matrix)[:,1]\n",
    "probabilities"
   ]
  },
  {
   "cell_type": "code",
   "execution_count": 43,
   "id": "dd53cc0d",
   "metadata": {},
   "outputs": [],
   "source": [
    "# Defining a function to store classes based of threshold probablities\n",
    "\n",
    "def apply_threshold(probabilities, threshold):\n",
    "    \n",
    "    ## YOUR CODE\n",
    "    elements=[]\n",
    "    elements.append(np.where(probabilities>=threshold,1,-1))\n",
    "    # +1 if >= threshold and -1 otherwise.\n",
    "    \n",
    "    return np.array(elements)"
   ]
  },
  {
   "cell_type": "markdown",
   "id": "6780c3ad",
   "metadata": {},
   "source": [
    "\n",
    "\n",
    "\n"
   ]
  },
  {
   "cell_type": "markdown",
   "id": "3434389b",
   "metadata": {},
   "source": [
    "Using the model you trained, compute the class probability values P(y=+1|x,w) for the data points in the test_data. Then use thresholds set at 0.5 (default) and 0.9 to make predictions from these probability values.m"
   ]
  },
  {
   "cell_type": "code",
   "execution_count": 44,
   "id": "8758bc44",
   "metadata": {},
   "outputs": [
    {
     "data": {
      "text/plain": [
       "array([9.00598322e-01, 9.99516998e-01, 7.47310031e-04, ...,\n",
       "       3.95770708e-01, 9.97050530e-01, 6.71749335e-01])"
      ]
     },
     "execution_count": 44,
     "metadata": {},
     "output_type": "execute_result"
    }
   ],
   "source": [
    "probabilities = lr.predict_proba(test_matrix)[:,1]\n",
    "probabilities"
   ]
  },
  {
   "cell_type": "code",
   "execution_count": 33,
   "id": "7671c41c",
   "metadata": {
    "scrolled": true
   },
   "outputs": [
    {
     "name": "stdout",
     "output_type": "stream",
     "text": [
      "Number of positive predicted reviews (threshold = 0.5) 28696\n"
     ]
    }
   ],
   "source": [
    "# Ans of above question\n",
    "\n",
    "predictions_with_default_threshold = apply_threshold(probabilities, 0.5)\n",
    "print ('Number of positive predicted reviews (threshold = 0.5)',(predictions_with_default_threshold == 1).sum())\n"
   ]
  },
  {
   "cell_type": "code",
   "execution_count": 34,
   "id": "d3948e11",
   "metadata": {},
   "outputs": [
    {
     "data": {
      "text/plain": [
       "0.9708464173565515"
      ]
     },
     "execution_count": 34,
     "metadata": {},
     "output_type": "execute_result"
    }
   ],
   "source": [
    "# Ans of above question\n",
    "\n",
    "recall_default = recall_score(y_test,predictions_with_default_threshold.reshape(-1,1))\n",
    "\n",
    "recall_default"
   ]
  },
  {
   "cell_type": "markdown",
   "id": "26c9bf07",
   "metadata": {},
   "source": [
    "#### To do \n",
    "\n",
    "Calculate positive predicted reviews using 0.9 threshold"
   ]
  },
  {
   "cell_type": "code",
   "execution_count": 57,
   "id": "04b2d0ec",
   "metadata": {},
   "outputs": [
    {
     "name": "stdout",
     "output_type": "stream",
     "text": [
      "Number of positive predicted reviews (threshold = 0.9) 24434\n"
     ]
    }
   ],
   "source": [
    "# Ans of above question\n",
    "\n",
    "predictions_with_threshold = apply_threshold(probabilities, 0.9)\n",
    "print ('Number of positive predicted reviews (threshold = 0.9)',(predictions_with_threshold == 1).sum())"
   ]
  },
  {
   "cell_type": "markdown",
   "id": "24d3f11a",
   "metadata": {},
   "source": [
    "**Quiz question:** What happens to the number of positive predicted reviews as the threshold increased from 0.5 to 0.9?\n",
    "\n",
    "**Ans:**--The number of positive predicted reviews got reduced from 28644 to 24434"
   ]
  },
  {
   "cell_type": "markdown",
   "id": "2409e047",
   "metadata": {},
   "source": [
    "## Exploring the associated precision and recall as the threshold varies"
   ]
  },
  {
   "cell_type": "markdown",
   "id": "24e56905",
   "metadata": {},
   "source": [
    "By changing the probability threshold, it is possible to influence precision and recall. We can explore this as follows:\n",
    "    \n",
    "Now, we will explore various different values of tresholds, compute the precision and recall scores, and then plot the precision-recall curve. Use 100 equally spaced values between 0.5 and 1. In Python, we run"
   ]
  },
  {
   "cell_type": "code",
   "execution_count": 35,
   "id": "669a424d",
   "metadata": {
    "collapsed": true
   },
   "outputs": [
    {
     "name": "stdout",
     "output_type": "stream",
     "text": [
      "[0.5        0.50505051 0.51010101 0.51515152 0.52020202 0.52525253\n",
      " 0.53030303 0.53535354 0.54040404 0.54545455 0.55050505 0.55555556\n",
      " 0.56060606 0.56565657 0.57070707 0.57575758 0.58080808 0.58585859\n",
      " 0.59090909 0.5959596  0.6010101  0.60606061 0.61111111 0.61616162\n",
      " 0.62121212 0.62626263 0.63131313 0.63636364 0.64141414 0.64646465\n",
      " 0.65151515 0.65656566 0.66161616 0.66666667 0.67171717 0.67676768\n",
      " 0.68181818 0.68686869 0.69191919 0.6969697  0.7020202  0.70707071\n",
      " 0.71212121 0.71717172 0.72222222 0.72727273 0.73232323 0.73737374\n",
      " 0.74242424 0.74747475 0.75252525 0.75757576 0.76262626 0.76767677\n",
      " 0.77272727 0.77777778 0.78282828 0.78787879 0.79292929 0.7979798\n",
      " 0.8030303  0.80808081 0.81313131 0.81818182 0.82323232 0.82828283\n",
      " 0.83333333 0.83838384 0.84343434 0.84848485 0.85353535 0.85858586\n",
      " 0.86363636 0.86868687 0.87373737 0.87878788 0.88383838 0.88888889\n",
      " 0.89393939 0.8989899  0.9040404  0.90909091 0.91414141 0.91919192\n",
      " 0.92424242 0.92929293 0.93434343 0.93939394 0.94444444 0.94949495\n",
      " 0.95454545 0.95959596 0.96464646 0.96969697 0.97474747 0.97979798\n",
      " 0.98484848 0.98989899 0.99494949 1.        ]\n"
     ]
    }
   ],
   "source": [
    "# Assiging threshold values\n",
    "\n",
    "threshold_values = np.linspace(0.5, 1, num=100)\n",
    "print (threshold_values)"
   ]
  },
  {
   "cell_type": "markdown",
   "id": "2ab22389",
   "metadata": {},
   "source": [
    "For each of the values of threshold, we first obtain class predictions using that threshold and then compute the precision and recall scores. Save the precision scores and recall scores to lists precision_all and recall_all, respectively."
   ]
  },
  {
   "cell_type": "code",
   "execution_count": 36,
   "id": "ef57e05c",
   "metadata": {},
   "outputs": [
    {
     "name": "stdout",
     "output_type": "stream",
     "text": [
      "[9.00598322e-01 9.99516998e-01 7.47310031e-04 ... 3.95770708e-01\n",
      " 9.97050530e-01 6.71749335e-01]\n"
     ]
    }
   ],
   "source": [
    "# Creating empty variable to store precision,recall for each value of threshold\n",
    "\n",
    "precision_all = []\n",
    "recall_all = []\n",
    "\n",
    "probabilities = lr.predict_proba(test_matrix)[:,1]\n",
    "print(probabilities)"
   ]
  },
  {
   "cell_type": "markdown",
   "id": "bf2897b8",
   "metadata": {},
   "source": [
    "#### To do\n",
    "\n",
    "Write Code to -\n",
    "\n",
    "1. Generate predictions using different thresholds\n",
    "2. calculate precision score and add it to the list precision_all\n",
    "3. calculate recall score and add it to the list recall_all"
   ]
  },
  {
   "cell_type": "code",
   "execution_count": 37,
   "id": "f3bf8e11",
   "metadata": {},
   "outputs": [],
   "source": [
    "## Your Code\n",
    "\n",
    "# Finding precision,recall for each value of threshold\n",
    " \n",
    "for threshold in threshold_values:\n",
    "    predictions = apply_threshold(probabilities, threshold)\n",
    "    precision_all.append(precision_score(y_test,predictions.reshape(-1,1)))\n",
    "    recall_all.append(recall_score(y_test,predictions.reshape(-1,1)))\n",
    "    \n",
    "    \n",
    "    \n"
   ]
  },
  {
   "cell_type": "code",
   "execution_count": 38,
   "id": "f57b22e1",
   "metadata": {
    "scrolled": true
   },
   "outputs": [],
   "source": [
    "# creating a new data frame to store all precision,recall value with its threshold values \n",
    "\n",
    "dataset = pd.DataFrame({'threshold_values': threshold_values, 'precision_all': precision_all,'recall_all': recall_all}, columns=['threshold_values', 'precision_all','recall_all'])"
   ]
  },
  {
   "cell_type": "code",
   "execution_count": 39,
   "id": "bd6be9b6",
   "metadata": {},
   "outputs": [
    {
     "data": {
      "text/html": [
       "<div>\n",
       "<style scoped>\n",
       "    .dataframe tbody tr th:only-of-type {\n",
       "        vertical-align: middle;\n",
       "    }\n",
       "\n",
       "    .dataframe tbody tr th {\n",
       "        vertical-align: top;\n",
       "    }\n",
       "\n",
       "    .dataframe thead th {\n",
       "        text-align: right;\n",
       "    }\n",
       "</style>\n",
       "<table border=\"1\" class=\"dataframe\">\n",
       "  <thead>\n",
       "    <tr style=\"text-align: right;\">\n",
       "      <th></th>\n",
       "      <th>threshold_values</th>\n",
       "      <th>precision_all</th>\n",
       "      <th>recall_all</th>\n",
       "    </tr>\n",
       "  </thead>\n",
       "  <tbody>\n",
       "    <tr>\n",
       "      <th>0</th>\n",
       "      <td>0.500000</td>\n",
       "      <td>0.948111</td>\n",
       "      <td>0.970846</td>\n",
       "    </tr>\n",
       "    <tr>\n",
       "      <th>1</th>\n",
       "      <td>0.505051</td>\n",
       "      <td>0.948385</td>\n",
       "      <td>0.970383</td>\n",
       "    </tr>\n",
       "    <tr>\n",
       "      <th>2</th>\n",
       "      <td>0.510101</td>\n",
       "      <td>0.948932</td>\n",
       "      <td>0.970061</td>\n",
       "    </tr>\n",
       "    <tr>\n",
       "      <th>3</th>\n",
       "      <td>0.515152</td>\n",
       "      <td>0.949216</td>\n",
       "      <td>0.969776</td>\n",
       "    </tr>\n",
       "    <tr>\n",
       "      <th>4</th>\n",
       "      <td>0.520202</td>\n",
       "      <td>0.949465</td>\n",
       "      <td>0.969455</td>\n",
       "    </tr>\n",
       "  </tbody>\n",
       "</table>\n",
       "</div>"
      ],
      "text/plain": [
       "   threshold_values  precision_all  recall_all\n",
       "0          0.500000       0.948111    0.970846\n",
       "1          0.505051       0.948385    0.970383\n",
       "2          0.510101       0.948932    0.970061\n",
       "3          0.515152       0.949216    0.969776\n",
       "4          0.520202       0.949465    0.969455"
      ]
     },
     "execution_count": 39,
     "metadata": {},
     "output_type": "execute_result"
    }
   ],
   "source": [
    "dataset.head()"
   ]
  },
  {
   "cell_type": "code",
   "execution_count": 40,
   "id": "d9d8c054",
   "metadata": {},
   "outputs": [],
   "source": [
    "# Defining Function to plat a graph of precision vs recall\n",
    "\n",
    "%matplotlib inline\n",
    "def plot_pr_curve(precision, recall, title):\n",
    "    plt.rcParams['figure.figsize'] = 7, 5\n",
    "    plt.locator_params(axis = 'x', nbins = 5)\n",
    "    plt.plot(precision, recall, 'b-', linewidth=4.0, color = '#B0017F')\n",
    "    plt.title(title)\n",
    "    plt.xlabel('Precision')\n",
    "    plt.ylabel('Recall')\n",
    "    plt.rcParams.update({'font.size': 16})"
   ]
  },
  {
   "cell_type": "code",
   "execution_count": 41,
   "id": "dc156c6f",
   "metadata": {},
   "outputs": [
    {
     "data": {
      "image/png": "[encoded data removed]",
      "text/plain": [
       "<Figure size 504x360 with 1 Axes>"
      ]
     },
     "metadata": {
      "needs_background": "light"
     },
     "output_type": "display_data"
    }
   ],
   "source": [
    "# Plotting graph for precision vs recall\n",
    "\n",
    "plot_pr_curve(precision_all, recall_all, 'Precision recall curve (all)')"
   ]
  },
  {
   "cell_type": "markdown",
   "id": "88dcdc9f",
   "metadata": {},
   "source": [
    "**Conclusion:** From above it can be seen precision & recall are inversely proportional to each other"
   ]
  },
  {
   "cell_type": "markdown",
   "id": "64729a83",
   "metadata": {},
   "source": [
    "\n",
    "\n",
    "\n",
    "\n",
    "\n"
   ]
  },
  {
   "cell_type": "markdown",
   "id": "8dc0c127",
   "metadata": {},
   "source": [
    "**Quiz Question:** Using threshold = 0.98, how many false negatives do we get on the test_data? This is the number of false negatives (i.e the number of reviews to look at when not needed) that we have to deal with using this classifier."
   ]
  },
  {
   "cell_type": "code",
   "execution_count": 45,
   "id": "b5182087",
   "metadata": {},
   "outputs": [],
   "source": [
    "# Answering Above Question\n",
    "\n",
    "predictions_with_threshold_0_98 = apply_threshold(probabilities, 0.98)\n",
    "cm1=confusion_matrix(y_test,predictions_with_threshold_0_98.reshape(-1,1))"
   ]
  },
  {
   "cell_type": "code",
   "execution_count": 46,
   "id": "aae23ea9",
   "metadata": {},
   "outputs": [
    {
     "name": "stdout",
     "output_type": "stream",
     "text": [
      " target_label | predicted_label | count \n",
      "--------------+-----------------+-------\n",
      "    -1.0      |      -1.0       |  5153\n",
      "    -1.0      |       1.0       |   174\n",
      "     1.0      |      -1.0       |  8325\n",
      "     1.0      |       1.0       | 19699\n"
     ]
    }
   ],
   "source": [
    "## Your Code\n",
    "\n",
    "  \n",
    "\n",
    "print (' target_label | predicted_label | count ')\n",
    "print ('--------------+-----------------+-------')\n",
    "for i, target_label in enumerate(lr.classes_):\n",
    "    for j, predicted_label in enumerate(lr.classes_):\n",
    "        print ('{0:^13} | {1:^15} | {2:5d}'.format(target_label, predicted_label, cm1[i,j]))"
   ]
  },
  {
   "cell_type": "code",
   "execution_count": null,
   "id": "245b715a",
   "metadata": {},
   "outputs": [],
   "source": []
  },
  {
   "cell_type": "markdown",
   "id": "f9e0df48",
   "metadata": {},
   "source": [
    "# Evaluating specific search terms"
   ]
  },
  {
   "cell_type": "markdown",
   "id": "a8960bea",
   "metadata": {},
   "source": [
    "So far, we looked at the number of false positives for the entire test set. In this section, let's select reviews using a specific search term and optimize the precision on these reviews only. After all, a manufacturer would be interested in tuning the false positive rate just for their products (the reviews they want to read) rather than that of the entire set of products on Amazon.\n",
    "\n",
    "# Precision-Recall on all baby related items\n",
    "From the test set, select all the reviews for all products with the word 'baby' in them."
   ]
  },
  {
   "cell_type": "code",
   "execution_count": null,
   "id": "351f755e",
   "metadata": {},
   "outputs": [],
   "source": []
  },
  {
   "cell_type": "code",
   "execution_count": 48,
   "id": "76c319a6",
   "metadata": {},
   "outputs": [],
   "source": [
    "# creating a new data frame based on above condition\n",
    "\n",
    "df_baby=df_rated.sample(frac=1).reset_index().drop(['index',\"review\",\"sentiment\"],1)"
   ]
  },
  {
   "cell_type": "code",
   "execution_count": 49,
   "id": "f0deca9f",
   "metadata": {},
   "outputs": [],
   "source": [
    "# creating test from above newly created data frame \n",
    "\n",
    "test_data = df_baby.iloc[n_train:]"
   ]
  },
  {
   "cell_type": "code",
   "execution_count": 50,
   "id": "71fa705c",
   "metadata": {},
   "outputs": [],
   "source": [
    "# Text Preprocessing\n",
    "\n",
    "corpus=[]\n",
    "for i in test_data['name']:\n",
    "    review=i.lower()\n",
    "    review=remove_punctuation(review)\n",
    "    corpus.append(review)"
   ]
  },
  {
   "cell_type": "code",
   "execution_count": 51,
   "id": "02a1dee4",
   "metadata": {},
   "outputs": [],
   "source": [
    "# replacing name column with clean texts\n",
    "\n",
    "test_data['name']=corpus"
   ]
  },
  {
   "cell_type": "code",
   "execution_count": 52,
   "id": "adfbc008",
   "metadata": {
    "scrolled": true
   },
   "outputs": [
    {
     "data": {
      "text/html": [
       "<div>\n",
       "<style scoped>\n",
       "    .dataframe tbody tr th:only-of-type {\n",
       "        vertical-align: middle;\n",
       "    }\n",
       "\n",
       "    .dataframe tbody tr th {\n",
       "        vertical-align: top;\n",
       "    }\n",
       "\n",
       "    .dataframe thead th {\n",
       "        text-align: right;\n",
       "    }\n",
       "</style>\n",
       "<table border=\"1\" class=\"dataframe\">\n",
       "  <thead>\n",
       "    <tr style=\"text-align: right;\">\n",
       "      <th></th>\n",
       "      <th>name</th>\n",
       "      <th>rating</th>\n",
       "      <th>review_clean</th>\n",
       "      <th>label</th>\n",
       "    </tr>\n",
       "  </thead>\n",
       "  <tbody>\n",
       "    <tr>\n",
       "      <th>133401</th>\n",
       "      <td>simple wishes handsfree breastpump bra pink xsl</td>\n",
       "      <td>5</td>\n",
       "      <td>great product i purchased the medela pump in s...</td>\n",
       "      <td>1.0</td>\n",
       "    </tr>\n",
       "    <tr>\n",
       "      <th>133402</th>\n",
       "      <td>boon caterpillar snack stack container greenwh...</td>\n",
       "      <td>2</td>\n",
       "      <td>the container 34doors34 do not stay closed ver...</td>\n",
       "      <td>-1.0</td>\n",
       "    </tr>\n",
       "    <tr>\n",
       "      <th>133403</th>\n",
       "      <td>nuk gerber graduates pack of 4 advance insulat...</td>\n",
       "      <td>5</td>\n",
       "      <td>i had to get rid of the nuk silicone sippy cup...</td>\n",
       "      <td>1.0</td>\n",
       "    </tr>\n",
       "    <tr>\n",
       "      <th>133404</th>\n",
       "      <td>fisherprice 49 mhz sounds n lights monitor</td>\n",
       "      <td>1</td>\n",
       "      <td>this monitor is terrible  i was not sure if i ...</td>\n",
       "      <td>-1.0</td>\n",
       "    </tr>\n",
       "    <tr>\n",
       "      <th>133405</th>\n",
       "      <td>skip hop dunks stacking bath toy blue green ye...</td>\n",
       "      <td>5</td>\n",
       "      <td>i got these for my son for xmas when he was al...</td>\n",
       "      <td>1.0</td>\n",
       "    </tr>\n",
       "  </tbody>\n",
       "</table>\n",
       "</div>"
      ],
      "text/plain": [
       "                                                     name  rating  \\\n",
       "133401    simple wishes handsfree breastpump bra pink xsl       5   \n",
       "133402  boon caterpillar snack stack container greenwh...       2   \n",
       "133403  nuk gerber graduates pack of 4 advance insulat...       5   \n",
       "133404         fisherprice 49 mhz sounds n lights monitor       1   \n",
       "133405  skip hop dunks stacking bath toy blue green ye...       5   \n",
       "\n",
       "                                             review_clean  label  \n",
       "133401  great product i purchased the medela pump in s...    1.0  \n",
       "133402  the container 34doors34 do not stay closed ver...   -1.0  \n",
       "133403  i had to get rid of the nuk silicone sippy cup...    1.0  \n",
       "133404  this monitor is terrible  i was not sure if i ...   -1.0  \n",
       "133405  i got these for my son for xmas when he was al...    1.0  "
      ]
     },
     "execution_count": 52,
     "metadata": {},
     "output_type": "execute_result"
    }
   ],
   "source": [
    "test_data.head()"
   ]
  },
  {
   "cell_type": "code",
   "execution_count": 53,
   "id": "a169c574",
   "metadata": {},
   "outputs": [],
   "source": [
    "# creating new data frame having \"Baby\" word in name column\n",
    "\n",
    "baby_reviews = test_data[test_data['name'].astype(str).apply(lambda x: 'baby' in x.lower())]"
   ]
  },
  {
   "cell_type": "code",
   "execution_count": 54,
   "id": "83babb8a",
   "metadata": {},
   "outputs": [
    {
     "data": {
      "text/html": [
       "<div>\n",
       "<style scoped>\n",
       "    .dataframe tbody tr th:only-of-type {\n",
       "        vertical-align: middle;\n",
       "    }\n",
       "\n",
       "    .dataframe tbody tr th {\n",
       "        vertical-align: top;\n",
       "    }\n",
       "\n",
       "    .dataframe thead th {\n",
       "        text-align: right;\n",
       "    }\n",
       "</style>\n",
       "<table border=\"1\" class=\"dataframe\">\n",
       "  <thead>\n",
       "    <tr style=\"text-align: right;\">\n",
       "      <th></th>\n",
       "      <th>name</th>\n",
       "      <th>rating</th>\n",
       "      <th>review_clean</th>\n",
       "      <th>label</th>\n",
       "    </tr>\n",
       "  </thead>\n",
       "  <tbody>\n",
       "    <tr>\n",
       "      <th>133406</th>\n",
       "      <td>summer infant mothers touch deluxe baby bather...</td>\n",
       "      <td>4</td>\n",
       "      <td>use this for every bath the height adjuster is...</td>\n",
       "      <td>1.0</td>\n",
       "    </tr>\n",
       "    <tr>\n",
       "      <th>133409</th>\n",
       "      <td>evenflo portable babysuite 300 marianna</td>\n",
       "      <td>5</td>\n",
       "      <td>i love this one a friend of ours had given us ...</td>\n",
       "      <td>1.0</td>\n",
       "    </tr>\n",
       "    <tr>\n",
       "      <th>133416</th>\n",
       "      <td>levana safe nsee digital video baby monitor wi...</td>\n",
       "      <td>4</td>\n",
       "      <td>picture is clear but can be better compared to...</td>\n",
       "      <td>1.0</td>\n",
       "    </tr>\n",
       "    <tr>\n",
       "      <th>133433</th>\n",
       "      <td>uppababy gluxe stroller jakeblack</td>\n",
       "      <td>1</td>\n",
       "      <td>nothing</td>\n",
       "      <td>-1.0</td>\n",
       "    </tr>\n",
       "    <tr>\n",
       "      <th>133448</th>\n",
       "      <td>mobicam audio video baby monitoring system</td>\n",
       "      <td>1</td>\n",
       "      <td>we liked this monitor at first the picture is ...</td>\n",
       "      <td>-1.0</td>\n",
       "    </tr>\n",
       "  </tbody>\n",
       "</table>\n",
       "</div>"
      ],
      "text/plain": [
       "                                                     name  rating  \\\n",
       "133406  summer infant mothers touch deluxe baby bather...       4   \n",
       "133409            evenflo portable babysuite 300 marianna       5   \n",
       "133416  levana safe nsee digital video baby monitor wi...       4   \n",
       "133433                  uppababy gluxe stroller jakeblack       1   \n",
       "133448         mobicam audio video baby monitoring system       1   \n",
       "\n",
       "                                             review_clean  label  \n",
       "133406  use this for every bath the height adjuster is...    1.0  \n",
       "133409  i love this one a friend of ours had given us ...    1.0  \n",
       "133416  picture is clear but can be better compared to...    1.0  \n",
       "133433                                            nothing   -1.0  \n",
       "133448  we liked this monitor at first the picture is ...   -1.0  "
      ]
     },
     "execution_count": 54,
     "metadata": {},
     "output_type": "execute_result"
    }
   ],
   "source": [
    "baby_reviews.head()"
   ]
  },
  {
   "cell_type": "markdown",
   "id": "ad75edeb",
   "metadata": {},
   "source": [
    "Now, let's predict the probability of classifying these reviews as positive. \n",
    "\n",
    "Make sure to convert the column review_clean of baby_reviews into a 2D array before computing class probability values. \n",
    "\n",
    "In scikit-learn, this task would be implemented as follows:"
   ]
  },
  {
   "cell_type": "code",
   "execution_count": 55,
   "id": "0548fccd",
   "metadata": {},
   "outputs": [],
   "source": [
    "# Finding probablities of postive class\n",
    "\n",
    "baby_matrix = cv.transform(baby_reviews['review_clean'])\n",
    "probabilities_baby = lr.predict_proba(baby_matrix)[:,1]"
   ]
  },
  {
   "cell_type": "code",
   "execution_count": 174,
   "id": "ed824d17",
   "metadata": {},
   "outputs": [
    {
     "data": {
      "text/plain": [
       "<6512x121497 sparse matrix of type '<class 'numpy.int64'>'\n",
       "\twith 367062 stored elements in Compressed Sparse Row format>"
      ]
     },
     "execution_count": 174,
     "metadata": {},
     "output_type": "execute_result"
    }
   ],
   "source": [
    "baby_matrix"
   ]
  },
  {
   "cell_type": "code",
   "execution_count": 56,
   "id": "49b1c3a0",
   "metadata": {},
   "outputs": [],
   "source": [
    "# creating test data for this new data frame\n",
    "\n",
    "y_test_baby=baby_reviews.label.values"
   ]
  },
  {
   "cell_type": "markdown",
   "id": "3d3dee87",
   "metadata": {},
   "source": [
    "Let's plot the precision-recall curve for the baby_reviews dataset. We again use 100 equally spaced values between 0.5 and 1 for the threshold."
   ]
  },
  {
   "cell_type": "code",
   "execution_count": 57,
   "id": "96821045",
   "metadata": {},
   "outputs": [],
   "source": [
    "# Assigning threshold values\n",
    "\n",
    "threshold_values = np.linspace(0.5, 1, num=100)"
   ]
  },
  {
   "cell_type": "code",
   "execution_count": 58,
   "id": "ed60ba72",
   "metadata": {},
   "outputs": [],
   "source": [
    "# Finding precision and recall value for all the values of threshold for above newly created test data\n",
    "\n",
    "\n",
    "baby_precision_all = []\n",
    "baby_recall_all = []\n",
    "\n",
    "\n",
    "for threshold in threshold_values:\n",
    "    predictions = apply_threshold(probabilities_baby, threshold)\n",
    "    baby_precision_all.append(precision_score(y_test_baby,predictions.reshape(-1,1)))\n",
    "    baby_recall_all.append(recall_score(y_test_baby,predictions.reshape(-1,1)))"
   ]
  },
  {
   "cell_type": "code",
   "execution_count": 59,
   "id": "69cf6489",
   "metadata": {},
   "outputs": [
    {
     "data": {
      "text/html": [
       "<div>\n",
       "<style scoped>\n",
       "    .dataframe tbody tr th:only-of-type {\n",
       "        vertical-align: middle;\n",
       "    }\n",
       "\n",
       "    .dataframe tbody tr th {\n",
       "        vertical-align: top;\n",
       "    }\n",
       "\n",
       "    .dataframe thead th {\n",
       "        text-align: right;\n",
       "    }\n",
       "</style>\n",
       "<table border=\"1\" class=\"dataframe\">\n",
       "  <thead>\n",
       "    <tr style=\"text-align: right;\">\n",
       "      <th></th>\n",
       "      <th>threshold_values</th>\n",
       "      <th>precision_all</th>\n",
       "      <th>recall_all</th>\n",
       "    </tr>\n",
       "  </thead>\n",
       "  <tbody>\n",
       "    <tr>\n",
       "      <th>0</th>\n",
       "      <td>0.500000</td>\n",
       "      <td>0.955584</td>\n",
       "      <td>0.975712</td>\n",
       "    </tr>\n",
       "    <tr>\n",
       "      <th>1</th>\n",
       "      <td>0.505051</td>\n",
       "      <td>0.956287</td>\n",
       "      <td>0.975522</td>\n",
       "    </tr>\n",
       "    <tr>\n",
       "      <th>2</th>\n",
       "      <td>0.510101</td>\n",
       "      <td>0.956821</td>\n",
       "      <td>0.975522</td>\n",
       "    </tr>\n",
       "    <tr>\n",
       "      <th>3</th>\n",
       "      <td>0.515152</td>\n",
       "      <td>0.956991</td>\n",
       "      <td>0.975332</td>\n",
       "    </tr>\n",
       "    <tr>\n",
       "      <th>4</th>\n",
       "      <td>0.520202</td>\n",
       "      <td>0.957704</td>\n",
       "      <td>0.975332</td>\n",
       "    </tr>\n",
       "    <tr>\n",
       "      <th>...</th>\n",
       "      <td>...</td>\n",
       "      <td>...</td>\n",
       "      <td>...</td>\n",
       "    </tr>\n",
       "    <tr>\n",
       "      <th>95</th>\n",
       "      <td>0.979798</td>\n",
       "      <td>0.995436</td>\n",
       "      <td>0.703605</td>\n",
       "    </tr>\n",
       "    <tr>\n",
       "      <th>96</th>\n",
       "      <td>0.984848</td>\n",
       "      <td>0.995695</td>\n",
       "      <td>0.658254</td>\n",
       "    </tr>\n",
       "    <tr>\n",
       "      <th>97</th>\n",
       "      <td>0.989899</td>\n",
       "      <td>0.995324</td>\n",
       "      <td>0.605882</td>\n",
       "    </tr>\n",
       "    <tr>\n",
       "      <th>98</th>\n",
       "      <td>0.994949</td>\n",
       "      <td>0.997048</td>\n",
       "      <td>0.512713</td>\n",
       "    </tr>\n",
       "    <tr>\n",
       "      <th>99</th>\n",
       "      <td>1.000000</td>\n",
       "      <td>1.000000</td>\n",
       "      <td>0.000380</td>\n",
       "    </tr>\n",
       "  </tbody>\n",
       "</table>\n",
       "<p>100 rows × 3 columns</p>\n",
       "</div>"
      ],
      "text/plain": [
       "    threshold_values  precision_all  recall_all\n",
       "0           0.500000       0.955584    0.975712\n",
       "1           0.505051       0.956287    0.975522\n",
       "2           0.510101       0.956821    0.975522\n",
       "3           0.515152       0.956991    0.975332\n",
       "4           0.520202       0.957704    0.975332\n",
       "..               ...            ...         ...\n",
       "95          0.979798       0.995436    0.703605\n",
       "96          0.984848       0.995695    0.658254\n",
       "97          0.989899       0.995324    0.605882\n",
       "98          0.994949       0.997048    0.512713\n",
       "99          1.000000       1.000000    0.000380\n",
       "\n",
       "[100 rows x 3 columns]"
      ]
     },
     "execution_count": 59,
     "metadata": {},
     "output_type": "execute_result"
    }
   ],
   "source": [
    "# creating the new data frame to store above calculated data\n",
    "\n",
    "dataset_baby = pd.DataFrame({'threshold_values': threshold_values, 'precision_all': baby_precision_all,'recall_all': baby_recall_all}, columns=['threshold_values', 'precision_all','recall_all'])\n",
    "dataset_baby"
   ]
  },
  {
   "cell_type": "code",
   "execution_count": 189,
   "id": "44fbce30",
   "metadata": {},
   "outputs": [
    {
     "data": {
      "image/png": "[encoded data removed]",
      "text/plain": [
       "<Figure size 504x360 with 1 Axes>"
      ]
     },
     "metadata": {
      "needs_background": "light"
     },
     "output_type": "display_data"
    }
   ],
   "source": [
    "# Plotting graph for precision vs recall value of baby dataset\n",
    "\n",
    "plot_pr_curve(baby_precision_all, baby_recall_all, \"Precision-Recall (Baby)\")"
   ]
  },
  {
   "cell_type": "markdown",
   "id": "0ff1234c",
   "metadata": {},
   "source": [
    "**Quiz Question**: Among all the threshold values tried, what is the **smallest** threshold value that achieves a precision of 96.5% or better for the reviews of data in **baby_reviews**? Round your answer to 3 decimal places."
   ]
  },
  {
   "cell_type": "code",
   "execution_count": 71,
   "id": "1f180a88",
   "metadata": {},
   "outputs": [
    {
     "data": {
      "text/html": [
       "<div>\n",
       "<style scoped>\n",
       "    .dataframe tbody tr th:only-of-type {\n",
       "        vertical-align: middle;\n",
       "    }\n",
       "\n",
       "    .dataframe tbody tr th {\n",
       "        vertical-align: top;\n",
       "    }\n",
       "\n",
       "    .dataframe thead th {\n",
       "        text-align: right;\n",
       "    }\n",
       "</style>\n",
       "<table border=\"1\" class=\"dataframe\">\n",
       "  <thead>\n",
       "    <tr style=\"text-align: right;\">\n",
       "      <th></th>\n",
       "      <th>index</th>\n",
       "      <th>threshold_values</th>\n",
       "      <th>precision_all</th>\n",
       "      <th>recall_all</th>\n",
       "    </tr>\n",
       "  </thead>\n",
       "  <tbody>\n",
       "    <tr>\n",
       "      <th>0</th>\n",
       "      <td>20</td>\n",
       "      <td>0.601</td>\n",
       "      <td>0.966</td>\n",
       "      <td>0.967</td>\n",
       "    </tr>\n",
       "  </tbody>\n",
       "</table>\n",
       "</div>"
      ],
      "text/plain": [
       "   index  threshold_values  precision_all  recall_all\n",
       "0     20             0.601          0.966       0.967"
      ]
     },
     "execution_count": 71,
     "metadata": {},
     "output_type": "execute_result"
    }
   ],
   "source": [
    "# Answering above question\n",
    "\n",
    "df_small=dataset_baby.loc[dataset_baby[\"precision_all\"]>0.965].reset_index()\n",
    "round(df_small.nsmallest(1,\"threshold_values\"),3)"
   ]
  },
  {
   "cell_type": "code",
   "execution_count": null,
   "id": "4706471f",
   "metadata": {},
   "outputs": [],
   "source": []
  }
 ],
 "metadata": {
  "kernelspec": {
   "display_name": "Python 3 (ipykernel)",
   "language": "python",
   "name": "python3"
  },
  "language_info": {
   "codemirror_mode": {
    "name": "ipython",
    "version": 3
   },
   "file_extension": ".py",
   "mimetype": "text/x-python",
   "name": "python",
   "nbconvert_exporter": "python",
   "pygments_lexer": "ipython3",
   "version": "3.9.12"
  }
 },
 "nbformat": 4,
 "nbformat_minor": 5
}
